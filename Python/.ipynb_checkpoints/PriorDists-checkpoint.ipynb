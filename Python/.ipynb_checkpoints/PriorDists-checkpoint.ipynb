{
 "cells": [
  {
   "cell_type": "code",
   "execution_count": 44,
   "id": "72465c26",
   "metadata": {},
   "outputs": [],
   "source": [
    "#imports\n",
    "import numpy as np\n",
    "import scipy.stats as s\n",
    "import matplotlib.pyplot as plt"
   ]
  },
  {
   "cell_type": "code",
   "execution_count": 45,
   "id": "24645c5a",
   "metadata": {},
   "outputs": [
    {
     "data": {
      "text/plain": [
       "(array([  2.,   5.,   6.,   9.,  20.,  28.,  53.,  84., 103., 116., 163.,\n",
       "        179., 178., 185., 205., 159., 137., 112.,  78.,  66.,  46.,  29.,\n",
       "         18.,  10.,   6.,   2.,   0.,   0.,   0.,   1.]),\n",
       " array([0.03877895, 0.05856307, 0.07834718, 0.0981313 , 0.11791542,\n",
       "        0.13769953, 0.15748365, 0.17726777, 0.19705189, 0.216836  ,\n",
       "        0.23662012, 0.25640424, 0.27618835, 0.29597247, 0.31575659,\n",
       "        0.33554071, 0.35532482, 0.37510894, 0.39489306, 0.41467717,\n",
       "        0.43446129, 0.45424541, 0.47402953, 0.49381364, 0.51359776,\n",
       "        0.53338188, 0.55316599, 0.57295011, 0.59273423, 0.61251835,\n",
       "        0.63230246]),\n",
       " <BarContainer object of 30 artists>)"
      ]
     },
     "execution_count": 45,
     "metadata": {},
     "output_type": "execute_result"
    },
    {
     "data": {
      "image/png": "[encoded data removed]",
      "text/plain": [
       "<Figure size 432x288 with 1 Axes>"
      ]
     },
     "metadata": {
      "needs_background": "light"
     },
     "output_type": "display_data"
    }
   ],
   "source": [
    "mean = 0.3\n",
    "std = 0.08\n",
    "# Create Distribution\n",
    "Dist1 = s.norm(loc=mean, scale=std)\n",
    "out=Dist1.rvs(2000)\n",
    "plt.hist(out, bins=30)"
   ]
  },
  {
   "cell_type": "code",
   "execution_count": 46,
   "id": "b264cbd9",
   "metadata": {},
   "outputs": [
    {
     "data": {
      "text/plain": [
       "(array([ 92., 156., 190., 220., 209., 191., 184., 180., 154., 110.,  74.,\n",
       "         65.,  51.,  40.,  23.,  21.,  16.,   7.,   5.,   2.,   3.,   4.,\n",
       "          2.,   0.,   0.,   0.,   0.,   0.,   0.,   1.]),\n",
       " array([0.00727704, 0.06221665, 0.11715627, 0.17209588, 0.22703549,\n",
       "        0.28197511, 0.33691472, 0.39185433, 0.44679395, 0.50173356,\n",
       "        0.55667317, 0.61161279, 0.6665524 , 0.72149201, 0.77643162,\n",
       "        0.83137124, 0.88631085, 0.94125046, 0.99619008, 1.05112969,\n",
       "        1.1060693 , 1.16100892, 1.21594853, 1.27088814, 1.32582776,\n",
       "        1.38076737, 1.43570698, 1.49064659, 1.54558621, 1.60052582,\n",
       "        1.65546543]),\n",
       " <BarContainer object of 30 artists>)"
      ]
     },
     "execution_count": 46,
     "metadata": {},
     "output_type": "execute_result"
    },
    {
     "data": {
      "image/png": "[encoded data removed]",
      "text/plain": [
       "<Figure size 432x288 with 1 Axes>"
      ]
     },
     "metadata": {
      "needs_background": "light"
     },
     "output_type": "display_data"
    }
   ],
   "source": [
    "Dist2 = s.weibull_min(c=1.7, scale=0.4)\n",
    "out=Dist2.rvs(2000)\n",
    "plt.hist(out, bins=30)"
   ]
  },
  {
   "cell_type": "code",
   "execution_count": 47,
   "id": "dcd4ff9c",
   "metadata": {},
   "outputs": [
    {
     "data": {
      "text/plain": [
       "(array([ 12.,  18.,  40.,  56.,  61.,  64.,  86.,  85., 106., 110.,  96.,\n",
       "        116.,  95., 104.,  84.,  89.,  94.,  90.,  79.,  71.,  67.,  37.,\n",
       "         54.,  48.,  47.,  34.,  26.,  21.,  33.,  16.,  15.,  12.,  10.,\n",
       "          8.,   4.,   2.,   2.,   4.,   3.,   1.]),\n",
       " array([0.02183976, 0.03928557, 0.05673138, 0.07417719, 0.091623  ,\n",
       "        0.10906881, 0.12651462, 0.14396043, 0.16140624, 0.17885205,\n",
       "        0.19629786, 0.21374367, 0.23118948, 0.24863529, 0.2660811 ,\n",
       "        0.28352691, 0.30097272, 0.31841853, 0.33586434, 0.35331014,\n",
       "        0.37075595, 0.38820176, 0.40564757, 0.42309338, 0.44053919,\n",
       "        0.457985  , 0.47543081, 0.49287662, 0.51032243, 0.52776824,\n",
       "        0.54521405, 0.56265986, 0.58010567, 0.59755148, 0.61499729,\n",
       "        0.6324431 , 0.64988891, 0.66733472, 0.68478053, 0.70222634,\n",
       "        0.71967215]),\n",
       " <BarContainer object of 40 artists>)"
      ]
     },
     "execution_count": 47,
     "metadata": {},
     "output_type": "execute_result"
    },
    {
     "data": {
      "image/png": "[encoded data removed]",
      "text/plain": [
       "<Figure size 432x288 with 1 Axes>"
      ]
     },
     "metadata": {
      "needs_background": "light"
     },
     "output_type": "display_data"
    }
   ],
   "source": [
    "Dist3 = s.beta(3,8)\n",
    "t=Dist3.rvs(2000)\n",
    "plt.hist(t, bins=40)"
   ]
  },
  {
   "cell_type": "code",
   "execution_count": 73,
   "id": "77cce19e",
   "metadata": {},
   "outputs": [],
   "source": [
    "# Import / create data points over time\n",
    "# Each data point can be defined by mass flow, dryness (and enthalpy excluded for now)\n",
    "data_points = [\n",
    "    {'Well': 0, 'Month': 2, 'Dryness': 0.3, 'MassFlow': 200., 'SteamFlow': 60.},\n",
    "    {'Well': 1, 'Month': 7, 'Dryness': 0.1, 'MassFlow': 300., 'SteamFlow': 30.},\n",
    "    {'Well': 2, 'Month': 4, 'Dryness': 0.25, 'MassFlow': 100., 'SteamFlow': 25.}\n",
    "]\n",
    "\n",
    "#, {'Well': 2, 'Month': 5, 'Dryness': 0.17, 'MassFlow': 100., 'SteamFlow': 17.}"
   ]
  },
  {
   "cell_type": "code",
   "execution_count": 74,
   "id": "4260423f",
   "metadata": {},
   "outputs": [],
   "source": [
    "# Let total steam flow equal the following:\n",
    "\n",
    "S_total = np.array([[100], [100], [100], [110], [120], [130], [150], [180], [200], [100]])"
   ]
  },
  {
   "cell_type": "code",
   "execution_count": 75,
   "id": "1afad206",
   "metadata": {},
   "outputs": [],
   "source": [
    "# Pretend there are x1, x2, x3. Use norm for x1, weibull for x2, remainder for x3\n",
    "\n",
    "# def generateAllocations(n):\n",
    "#     x = np.zeros([n,3])\n",
    "#     for i in range(len(x)):\n",
    "#         x[i,0] = Dist1.rvs(1)\n",
    "#         x[i,1] = Dist2.rvs(1)\n",
    "#         x[i,2] = 1 - x[i,0] - x[i,1]\n",
    "#     return x\n",
    "\n",
    "# new method where we use data points to determine approximate allocations\n",
    "\n",
    "def generateInitialAllocations(n, nx, data_points):\n",
    "    x = np.zeros([n,nx])\n",
    "    \n",
    "    # Take data from data points to get initial guess of allocations\n",
    "    well_steamflow_sums = np.zeros(nx)\n",
    "    well_amnt_tfts = np.zeros(nx)\n",
    "    for dp in data_points:\n",
    "        well = dp['Well']\n",
    "        well_steamflow_sums[well] += dp['SteamFlow']\n",
    "        well_amnt_tfts[well] += 1\n",
    "    well_steamflow_means = np.divide(well_steamflow_sums, well_amnt_tfts)\n",
    "    well_initial_allocations = well_steamflow_means / sum(well_steamflow_means)\n",
    "    \n",
    "    print(\"Sum of allocations is \"+str(sum(well_initial_allocations)))\n",
    "    return well_initial_allocations\n",
    "\n",
    "\n",
    "# Expected Value of Beta dist = a/(a+b) , mode = (a-1)/(a+b-2) , if increase a and b, then decrease variance\n",
    "\n",
    "# Generate distributions based on initial allocations\n",
    "def generateBetaDists(nx, initial_allocs):\n",
    "    \n",
    "    dists = []\n",
    "    # For each well, set up a beta distribution\n",
    "    for i in range(nx):\n",
    "        print(initial_allocs[i])\n",
    "        dists.append(s.beta(initial_allocs[i]*10, 10-initial_allocs[i]*10))\n",
    "    \n",
    "    \n",
    "    return dists\n",
    "    \n"
   ]
  },
  {
   "cell_type": "code",
   "execution_count": 76,
   "id": "72e9ada6",
   "metadata": {},
   "outputs": [],
   "source": [
    "pass"
   ]
  },
  {
   "cell_type": "code",
   "execution_count": 77,
   "id": "a6710eed",
   "metadata": {},
   "outputs": [],
   "source": [
    "def generateAllocations(n, nx, data_points):\n",
    "    \n",
    "    # Find initial allocations\n",
    "    initial_allocs = generateInitialAllocations(n, nx, data_points)\n",
    "    # Generate Distributions\n",
    "    dists = generateBetaDists(nx, initial_allocs)\n",
    "    \n",
    "    # Generate actual allocations\n",
    "    x = np.zeros([n,nx])\n",
    "    for i in range(n):\n",
    "        # For certain time, get alloc for all wells based on distributions, then scale\n",
    "        tmp = np.zeros(nx)\n",
    "        for j in range(nx):\n",
    "            tmp[j] = dists[j].rvs(1)\n",
    "        for j in range(nx):\n",
    "            x[i,j] = tmp[j] / sum(tmp)\n",
    "\n",
    "    # Artificially set allocations to 'optimal'\n",
    "    for i in range(n):\n",
    "        x[i,:] = initial_allocs\n",
    "    \n",
    "            \n",
    "    return x, dists"
   ]
  },
  {
   "cell_type": "code",
   "execution_count": 78,
   "id": "af41c00c",
   "metadata": {},
   "outputs": [],
   "source": [
    "# Use 3rd (beta) distribution for drynesses (all wells have same dist atm)\n",
    "\n",
    "def generateDryness(n, data_points):\n",
    "    # Treat dryness as constant for now\n",
    "    d = np.zeros([n,nx])\n",
    "    \n",
    "    # Take data from data points to get mean dryness\n",
    "    well_dryness_sums = np.zeros(nx)\n",
    "    dryness_amnt_tfts = np.zeros(nx)\n",
    "    for dp in data_points:\n",
    "        well = dp['Well']\n",
    "        well_dryness_sums[well] += dp['Dryness']\n",
    "        dryness_amnt_tfts[well] += 1\n",
    "    well_dryness_means = np.divide(well_dryness_sums, dryness_amnt_tfts)\n",
    "\n",
    "    # Assign to dryness matrix\n",
    "    for i in range(n):\n",
    "        d[i,:] = well_dryness_means\n",
    "    \n",
    "    return d"
   ]
  },
  {
   "cell_type": "code",
   "execution_count": 79,
   "id": "60d47b4d",
   "metadata": {},
   "outputs": [],
   "source": [
    "def generateSteamFlow(x, S_total):\n",
    "    # x is n rows * xn columns\n",
    "    # S_total is n * 1\n",
    "    S = np.copy(x)\n",
    "    for i in range(len(x)):\n",
    "        S[i] = S[i] * S_total[i]\n",
    "\n",
    "    return S"
   ]
  },
  {
   "cell_type": "code",
   "execution_count": 80,
   "id": "036b26b1",
   "metadata": {},
   "outputs": [
    {
     "name": "stdout",
     "output_type": "stream",
     "text": [
      "Sum of allocations is 0.9999999999999999\n",
      "0.5217391304347826\n",
      "0.2608695652173913\n",
      "0.21739130434782608\n"
     ]
    },
    {
     "data": {
      "text/plain": [
       "array([[0.3 , 0.1 , 0.25],\n",
       "       [0.3 , 0.1 , 0.25],\n",
       "       [0.3 , 0.1 , 0.25],\n",
       "       [0.3 , 0.1 , 0.25],\n",
       "       [0.3 , 0.1 , 0.25],\n",
       "       [0.3 , 0.1 , 0.25],\n",
       "       [0.3 , 0.1 , 0.25],\n",
       "       [0.3 , 0.1 , 0.25],\n",
       "       [0.3 , 0.1 , 0.25],\n",
       "       [0.3 , 0.1 , 0.25]])"
      ]
     },
     "execution_count": 80,
     "metadata": {},
     "output_type": "execute_result"
    }
   ],
   "source": [
    "# Get results for these priors\n",
    "\n",
    "n=10\n",
    "nx=3\n",
    "# nx = number of wells\n",
    "\n",
    "x, dists = generateAllocations(n, nx, data_points)\n",
    "x\n",
    "d = generateDryness(n, data_points)\n",
    "\n",
    "S = generateSteamFlow(x, S_total)\n",
    "M = np.divide(S,d)\n",
    "d"
   ]
  },
  {
   "cell_type": "code",
   "execution_count": 81,
   "id": "8150e2e8",
   "metadata": {},
   "outputs": [
    {
     "data": {
      "text/plain": [
       "[<matplotlib.lines.Line2D at 0x238695fed90>]"
      ]
     },
     "execution_count": 81,
     "metadata": {},
     "output_type": "execute_result"
    },
    {
     "data": {
      "image/png": "[encoded data removed]",
      "text/plain": [
       "<Figure size 432x288 with 4 Axes>"
      ]
     },
     "metadata": {
      "needs_background": "light"
     },
     "output_type": "display_data"
    }
   ],
   "source": [
    "# plot x's against time\n",
    "fig, axes = plt.subplots(nx+1, sharex=True)\n",
    "\n",
    "for i in range(nx):\n",
    "    # Plot the results\n",
    "    axes[i].plot(range(n), M[:,i])\n",
    "    axes[i].set_title(\"Mass flow for well \"+str(i)+\" against time\")\n",
    "    \n",
    "    # Plot any data points\n",
    "    for dp in data_points:\n",
    "        if dp['Well'] == i:\n",
    "            axes[i].plot(dp['Month'], dp['MassFlow'], 'rx')\n",
    "    \n",
    "# Plot total steam flow\n",
    "axes[nx].plot(range(n), np.sum(S, axis=1))\n",
    "axes[nx].set_title(\"Plot of total steam flow against time\")\n",
    "axes[nx].plot(range(n), S_total[:,0], 'rx')\n",
    "\n",
    "#axes[nx+1].plot(range(n), np.sum(M, axis=1))\n",
    "#axes[nx+1].set_title(\"Plot of total mass flow against time\")"
   ]
  },
  {
   "cell_type": "code",
   "execution_count": 82,
   "id": "e37838d8",
   "metadata": {},
   "outputs": [
    {
     "data": {
      "text/plain": [
       "array([[0.3 , 0.1 , 0.25],\n",
       "       [0.3 , 0.1 , 0.25],\n",
       "       [0.3 , 0.1 , 0.25],\n",
       "       [0.3 , 0.1 , 0.25],\n",
       "       [0.3 , 0.1 , 0.25],\n",
       "       [0.3 , 0.1 , 0.25],\n",
       "       [0.3 , 0.1 , 0.25],\n",
       "       [0.3 , 0.1 , 0.25],\n",
       "       [0.3 , 0.1 , 0.25],\n",
       "       [0.3 , 0.1 , 0.25]])"
      ]
     },
     "execution_count": 82,
     "metadata": {},
     "output_type": "execute_result"
    }
   ],
   "source": [
    "d"
   ]
  },
  {
   "cell_type": "code",
   "execution_count": null,
   "id": "3e72be8e",
   "metadata": {},
   "outputs": [],
   "source": []
  },
  {
   "cell_type": "code",
   "execution_count": null,
   "id": "96acc9de",
   "metadata": {},
   "outputs": [],
   "source": []
  }
 ],
 "metadata": {
  "kernelspec": {
   "display_name": "Python 3 (ipykernel)",
   "language": "python",
   "name": "python3"
  },
  "language_info": {
   "codemirror_mode": {
    "name": "ipython",
    "version": 3
   },
   "file_extension": ".py",
   "mimetype": "text/x-python",
   "name": "python",
   "nbconvert_exporter": "python",
   "pygments_lexer": "ipython3",
   "version": "3.9.7"
  }
 },
 "nbformat": 4,
 "nbformat_minor": 5
}
