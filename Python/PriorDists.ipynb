{
 "cells": [
  {
   "cell_type": "code",
   "execution_count": 41,
   "id": "72465c26",
   "metadata": {},
   "outputs": [],
   "source": [
    "#imports\n",
    "import numpy as np\n",
    "import scipy.stats as s\n",
    "import matplotlib.pyplot as plt"
   ]
  },
  {
   "cell_type": "code",
   "execution_count": 72,
   "id": "24645c5a",
   "metadata": {},
   "outputs": [
    {
     "data": {
      "text/plain": [
       "(array([  2.,   2.,   4.,   4.,  12.,  20.,  24.,  42.,  82.,  94., 144.,\n",
       "        171., 186., 199., 214., 190., 188., 120., 101.,  73.,  38.,  33.,\n",
       "         32.,  11.,   5.,   3.,   3.,   1.,   1.,   1.]),\n",
       " array([0.01665864, 0.03675787, 0.05685711, 0.07695635, 0.09705559,\n",
       "        0.11715483, 0.13725407, 0.15735331, 0.17745255, 0.19755178,\n",
       "        0.21765102, 0.23775026, 0.2578495 , 0.27794874, 0.29804798,\n",
       "        0.31814722, 0.33824646, 0.35834569, 0.37844493, 0.39854417,\n",
       "        0.41864341, 0.43874265, 0.45884189, 0.47894113, 0.49904037,\n",
       "        0.5191396 , 0.53923884, 0.55933808, 0.57943732, 0.59953656,\n",
       "        0.6196358 ]),\n",
       " <BarContainer object of 30 artists>)"
      ]
     },
     "execution_count": 72,
     "metadata": {},
     "output_type": "execute_result"
    },
    {
     "data": {
      "image/png": "[encoded data removed]",
      "text/plain": [
       "<Figure size 432x288 with 1 Axes>"
      ]
     },
     "metadata": {
      "needs_background": "light"
     },
     "output_type": "display_data"
    }
   ],
   "source": [
    "mean = 0.3\n",
    "std = 0.08\n",
    "# Create Distribution\n",
    "Dist1 = s.norm(loc=mean, scale=std)\n",
    "out=Dist1.rvs(2000)\n",
    "plt.hist(out, bins=30)"
   ]
  },
  {
   "cell_type": "code",
   "execution_count": 71,
   "id": "b264cbd9",
   "metadata": {},
   "outputs": [
    {
     "data": {
      "text/plain": [
       "(array([ 31., 105., 119., 142., 156., 156., 163., 156., 150., 138., 103.,\n",
       "        117.,  87.,  81.,  64.,  60.,  35.,  30.,  25.,  19.,  16.,  19.,\n",
       "          6.,   5.,   2.,   8.,   2.,   3.,   0.,   2.]),\n",
       " array([5.16793815e-04, 4.14041683e-02, 8.22915428e-02, 1.23178917e-01,\n",
       "        1.64066292e-01, 2.04953666e-01, 2.45841041e-01, 2.86728415e-01,\n",
       "        3.27615790e-01, 3.68503164e-01, 4.09390539e-01, 4.50277913e-01,\n",
       "        4.91165288e-01, 5.32052662e-01, 5.72940037e-01, 6.13827411e-01,\n",
       "        6.54714786e-01, 6.95602160e-01, 7.36489535e-01, 7.77376909e-01,\n",
       "        8.18264284e-01, 8.59151658e-01, 9.00039033e-01, 9.40926407e-01,\n",
       "        9.81813782e-01, 1.02270116e+00, 1.06358853e+00, 1.10447591e+00,\n",
       "        1.14536328e+00, 1.18625065e+00, 1.22713803e+00]),\n",
       " <BarContainer object of 30 artists>)"
      ]
     },
     "execution_count": 71,
     "metadata": {},
     "output_type": "execute_result"
    },
    {
     "data": {
      "image/png": "[encoded data removed]",
      "text/plain": [
       "<Figure size 432x288 with 1 Axes>"
      ]
     },
     "metadata": {
      "needs_background": "light"
     },
     "output_type": "display_data"
    }
   ],
   "source": [
    "Dist2 = s.weibull_min(c=1.7, scale=0.4)\n",
    "out=Dist2.rvs(2000)\n",
    "plt.hist(out, bins=30)"
   ]
  },
  {
   "cell_type": "code",
   "execution_count": 119,
   "id": "dcd4ff9c",
   "metadata": {},
   "outputs": [
    {
     "data": {
      "text/plain": [
       "(array([ 23.,  55.,  84., 104., 107., 128., 130., 117., 125., 116., 115.,\n",
       "        103., 105.,  83.,  67.,  67.,  68.,  52.,  52.,  49.,  53.,  36.,\n",
       "         25.,  22.,  21.,  25.,  13.,  17.,   8.,   9.,   5.,   3.,   4.,\n",
       "          4.,   1.,   3.,   0.,   0.,   0.,   1.]),\n",
       " array([2.52915579e-04, 1.76751820e-02, 3.50974484e-02, 5.25197148e-02,\n",
       "        6.99419812e-02, 8.73642476e-02, 1.04786514e-01, 1.22208780e-01,\n",
       "        1.39631047e-01, 1.57053313e-01, 1.74475580e-01, 1.91897846e-01,\n",
       "        2.09320112e-01, 2.26742379e-01, 2.44164645e-01, 2.61586912e-01,\n",
       "        2.79009178e-01, 2.96431444e-01, 3.13853711e-01, 3.31275977e-01,\n",
       "        3.48698244e-01, 3.66120510e-01, 3.83542776e-01, 4.00965043e-01,\n",
       "        4.18387309e-01, 4.35809576e-01, 4.53231842e-01, 4.70654108e-01,\n",
       "        4.88076375e-01, 5.05498641e-01, 5.22920908e-01, 5.40343174e-01,\n",
       "        5.57765440e-01, 5.75187707e-01, 5.92609973e-01, 6.10032240e-01,\n",
       "        6.27454506e-01, 6.44876772e-01, 6.62299039e-01, 6.79721305e-01,\n",
       "        6.97143572e-01]),\n",
       " <BarContainer object of 40 artists>)"
      ]
     },
     "execution_count": 119,
     "metadata": {},
     "output_type": "execute_result"
    },
    {
     "data": {
      "image/png": "[encoded data removed]",
      "text/plain": [
       "<Figure size 432x288 with 1 Axes>"
      ]
     },
     "metadata": {
      "needs_background": "light"
     },
     "output_type": "display_data"
    }
   ],
   "source": [
    "Dist3 = s.beta(2,8)\n",
    "t=Dist3.rvs(2000)\n",
    "plt.hist(t, bins=40)"
   ]
  },
  {
   "cell_type": "code",
   "execution_count": 143,
   "id": "4260423f",
   "metadata": {},
   "outputs": [],
   "source": [
    "# Let total steam flow equal the following:\n",
    "\n",
    "S_total = np.array([[100], [100], [100], [110], [120], [130], [150], [180], [200], [100]])"
   ]
  },
  {
   "cell_type": "code",
   "execution_count": 86,
   "id": "1afad206",
   "metadata": {},
   "outputs": [],
   "source": [
    "# Pretend there are x1, x2, x3. Use norm for x1, weibull for x2, remainder for x3\n",
    "\n",
    "def generatePriors(n):\n",
    "    x = np.zeros([n,3])\n",
    "    for i in range(len(x)):\n",
    "        x[i,0] = Dist1.rvs(1)\n",
    "        x[i,1] = Dist2.rvs(1)\n",
    "        x[i,2] = 1 - x[i,0] - x[i,1]\n",
    "    return x"
   ]
  },
  {
   "cell_type": "code",
   "execution_count": 120,
   "id": "af41c00c",
   "metadata": {},
   "outputs": [],
   "source": [
    "# Use 3rd (beta) distribution for drynesses (all wells have same dist atm)\n",
    "\n",
    "def generateDryness(n):\n",
    "    x = np.zeros([n,3])\n",
    "    for i in range(len(x)):\n",
    "        for j in range(len(x[0])):\n",
    "            x[i,j] = Dist3.rvs(1)\n",
    "    return x"
   ]
  },
  {
   "cell_type": "code",
   "execution_count": 144,
   "id": "60d47b4d",
   "metadata": {},
   "outputs": [],
   "source": [
    "def generateSteamFlow(x, S_total):\n",
    "    # x is n rows * xn columns\n",
    "    # S_total is n * 1\n",
    "    S = np.copy(x)\n",
    "    for i in range(len(x)):\n",
    "        S[i] = S[i] * S_total[i]\n",
    "\n",
    "    return S"
   ]
  },
  {
   "cell_type": "code",
   "execution_count": 147,
   "id": "036b26b1",
   "metadata": {},
   "outputs": [
    {
     "data": {
      "text/plain": [
       "array([[240.3409792 , 164.84107267,  73.54892263],\n",
       "       [ 68.31041653, 264.38555265,  96.79155576],\n",
       "       [149.21874747, 246.94843972,  97.73776531],\n",
       "       [ 83.46293655, 225.91910614, 304.51645355],\n",
       "       [266.04174493,  98.53624552, 626.28256839],\n",
       "       [664.9987485 , 190.51218079, 288.42138253],\n",
       "       [204.84288104, 270.32421679, 415.96459546],\n",
       "       [571.68054497, 247.8804501 , 733.13284945],\n",
       "       [272.65676561, 364.46015499, 169.80388945],\n",
       "       [ 48.97231972, 522.86180655,  87.63545712]])"
      ]
     },
     "execution_count": 147,
     "metadata": {},
     "output_type": "execute_result"
    }
   ],
   "source": [
    "# Get results for these priors\n",
    "\n",
    "n=10\n",
    "x = generatePriors(n)\n",
    "d = generateDryness(n)\n",
    "\n",
    "S = generateSteamFlow(x, S_total)\n",
    "M = np.divide(S,d)\n",
    "M"
   ]
  },
  {
   "cell_type": "code",
   "execution_count": 151,
   "id": "8150e2e8",
   "metadata": {},
   "outputs": [
    {
     "data": {
      "text/plain": [
       "Text(0.5, 1.0, 'Plot of total mass flow against time')"
      ]
     },
     "execution_count": 151,
     "metadata": {},
     "output_type": "execute_result"
    },
    {
     "data": {
      "image/png": "[encoded data removed]",
      "text/plain": [
       "<Figure size 432x288 with 5 Axes>"
      ]
     },
     "metadata": {
      "needs_background": "light"
     },
     "output_type": "display_data"
    }
   ],
   "source": [
    "# plot x's against time\n",
    "nx=3\n",
    "# nx = number of wells\n",
    "fig, ax_tup = plt.subplots(nx+2, sharex=True)\n",
    "\n",
    "for i in range(nx):\n",
    "    ax_tup[i].plot(range(n), x[:,i])\n",
    "    ax_tup[i].set_title(\"Plot of x\"+str(i)+\" against time\")\n",
    "    \n",
    "ax_tup[nx].plot(range(n), np.sum(S, axis=1))\n",
    "ax_tup[nx].set_title(\"Plot of total steam flow against time\")\n",
    "\n",
    "ax_tup[nx+1].plot(range(n), np.sum(M, axis=1))\n",
    "ax_tup[nx+1].set_title(\"Plot of total mass flow against time\")"
   ]
  },
  {
   "cell_type": "code",
   "execution_count": null,
   "id": "e37838d8",
   "metadata": {},
   "outputs": [],
   "source": []
  }
 ],
 "metadata": {
  "kernelspec": {
   "display_name": "Python 3 (ipykernel)",
   "language": "python",
   "name": "python3"
  },
  "language_info": {
   "codemirror_mode": {
    "name": "ipython",
    "version": 3
   },
   "file_extension": ".py",
   "mimetype": "text/x-python",
   "name": "python",
   "nbconvert_exporter": "python",
   "pygments_lexer": "ipython3",
   "version": "3.9.7"
  }
 },
 "nbformat": 4,
 "nbformat_minor": 5
}
