{
 "cells": [
  {
   "cell_type": "code",
   "execution_count": 2,
   "id": "441db858-1415-4663-afd5-8b55956613e7",
   "metadata": {},
   "outputs": [],
   "source": [
    "import numpy as np\n",
    "from scipy.optimize import minimize\n",
    "from sympy import *\n",
    "init_printing(use_latex=true)"
   ]
  },
  {
   "cell_type": "code",
   "execution_count": 3,
   "id": "628f8036-6305-483e-b665-8484861494c3",
   "metadata": {},
   "outputs": [],
   "source": [
    "n, T, i, t, lda, eps = symbols('n T i t \\lambda \\epsilon')       # n wells & T timepoints\n",
    "n = 3\n",
    "T = 5"
   ]
  },
  {
   "cell_type": "code",
   "execution_count": 4,
   "id": "9dd2c865-18d3-419c-95ec-61305fbf2163",
   "metadata": {},
   "outputs": [
    {
     "name": "stdout",
     "output_type": "stream",
     "text": [
      "⎡c₀₀  c₀₁  c₀₂  c₀₃  c₀₄⎤\n",
      "⎢                       ⎥\n",
      "⎢c₁₀  c₁₁  c₁₂  c₁₃  c₁₄⎥\n",
      "⎢                       ⎥\n",
      "⎣c₂₀  c₂₁  c₂₂  c₂₃  c₂₄⎦\n"
     ]
    }
   ],
   "source": [
    "c = MatrixSymbol('c', n, T)      # Row 0 = well 0   , Column 3 = Timepoint 3\n",
    "pprint(c.as_explicit())"
   ]
  },
  {
   "cell_type": "code",
   "execution_count": 5,
   "id": "daf10ffc-086a-4c6c-967f-77e74dfecead",
   "metadata": {},
   "outputs": [
    {
     "name": "stdout",
     "output_type": "stream",
     "text": [
      "⎡d₀₀  d₀₁  d₀₂  d₀₃  d₀₄⎤\n",
      "⎢                       ⎥\n",
      "⎢d₁₀  d₁₁  d₁₂  d₁₃  d₁₄⎥\n",
      "⎢                       ⎥\n",
      "⎣d₂₀  d₂₁  d₂₂  d₂₃  d₂₄⎦\n"
     ]
    }
   ],
   "source": [
    "d = MatrixSymbol('d', n, T)   \n",
    "pprint(d.as_explicit())"
   ]
  },
  {
   "cell_type": "code",
   "execution_count": 6,
   "id": "c53ae321",
   "metadata": {},
   "outputs": [
    {
     "name": "stdout",
     "output_type": "stream",
     "text": [
      "⎡p₀₀  p₀₁  p₀₂  p₀₃  p₀₄⎤\n",
      "⎢                       ⎥\n",
      "⎢p₁₀  p₁₁  p₁₂  p₁₃  p₁₄⎥\n",
      "⎢                       ⎥\n",
      "⎣p₂₀  p₂₁  p₂₂  p₂₃  p₂₄⎦\n"
     ]
    }
   ],
   "source": [
    "p = MatrixSymbol('p', n, T)  \n",
    "pprint(p.as_explicit())"
   ]
  },
  {
   "cell_type": "code",
   "execution_count": 7,
   "id": "70d12d2c-73de-498d-bfff-4c1b9ffef7cd",
   "metadata": {},
   "outputs": [
    {
     "name": "stdout",
     "output_type": "stream",
     "text": [
      "⎡w₀₀⎤\n",
      "⎢   ⎥\n",
      "⎢w₁₀⎥\n",
      "⎢   ⎥\n",
      "⎣w₂₀⎦\n"
     ]
    }
   ],
   "source": [
    "w = MatrixSymbol('w', n, 1)\n",
    "pprint(w.as_explicit())"
   ]
  },
  {
   "cell_type": "code",
   "execution_count": 8,
   "id": "9008042a",
   "metadata": {},
   "outputs": [
    {
     "name": "stdout",
     "output_type": "stream",
     "text": [
      "[P₀₀  P₀₁  P₀₂  P₀₃  P₀₄]\n"
     ]
    }
   ],
   "source": [
    "P = MatrixSymbol('P', 1, T)\n",
    "pprint(P.as_explicit())\n"
   ]
  },
  {
   "cell_type": "code",
   "execution_count": 9,
   "id": "d04a3ffb",
   "metadata": {},
   "outputs": [
    {
     "data": {
      "image/png": "[encoded data removed]",
      "text/latex": [
       "$\\displaystyle \\sum_{t=0}^{4} \\left(P_{0, t} - \\sum_{i=0}^{2} c_{i, t} w_{i, 0}\\right)^{2}$"
      ],
      "text/plain": [
       "   4                                            \n",
       "_______                                         \n",
       "╲                                               \n",
       " ╲                                              \n",
       "  ╲                                            2\n",
       "   ╲    ⎛              2                      ⎞ \n",
       "    ╲   ⎜             ___                     ⎟ \n",
       "     ╲  ⎜             ╲                       ⎟ \n",
       "     ╱  ⎜              ╲                      ⎟ \n",
       "    ╱   ⎜(P)[0, t] -   ╱   (c)[i, t]⋅(w)[i, 0]⎟ \n",
       "   ╱    ⎜             ╱                       ⎟ \n",
       "  ╱     ⎜             ‾‾‾                     ⎟ \n",
       " ╱      ⎝            i = 0                    ⎠ \n",
       "╱                                               \n",
       "‾‾‾‾‾‾‾                                         \n",
       " t = 0                                          "
      ]
     },
     "execution_count": 9,
     "metadata": {},
     "output_type": "execute_result"
    }
   ],
   "source": [
    "S1 = Sum((P[0,t] - Sum(c[i, t]*w[i,0], (i, 0, n-1)))**2 , (t, 0, T-1))\n",
    "S1"
   ]
  },
  {
   "cell_type": "code",
   "execution_count": 10,
   "id": "d5090c41",
   "metadata": {},
   "outputs": [
    {
     "data": {
      "image/png": "[encoded data removed]",
      "text/latex": [
       "$\\displaystyle \\sum_{\\substack{0 \\leq t \\leq 4\\\\0 \\leq i \\leq 2}} \\left(p_{i, t} - w_{i, 0}\\right)^{2} d_{i, t}$"
      ],
      "text/plain": [
       "  2     4                                     \n",
       " ___   ___                                    \n",
       " ╲     ╲                                      \n",
       "  ╲     ╲                          2          \n",
       "  ╱     ╱   ((p)[i, t] - (w)[i, 0]) ⋅(d)[i, t]\n",
       " ╱     ╱                                      \n",
       " ‾‾‾   ‾‾‾                                    \n",
       "i = 0 t = 0                                   "
      ]
     },
     "execution_count": 10,
     "metadata": {},
     "output_type": "execute_result"
    }
   ],
   "source": [
    "S2 = Sum(Sum(d[i,t]*((p[i,t]-w[i, 0]))**2 , (t, 0, T-1)), (i, 0, n-1))\n",
    "S2"
   ]
  },
  {
   "cell_type": "code",
   "execution_count": 11,
   "id": "bd917970",
   "metadata": {},
   "outputs": [
    {
     "data": {
      "image/png": "[encoded data removed]",
      "text/latex": [
       "$\\displaystyle \\lambda \\sum_{\\substack{0 \\leq t \\leq 4\\\\0 \\leq i \\leq 2}} \\left(p_{i, t} - w_{i, 0}\\right)^{2} d_{i, t} + \\sum_{t=0}^{4} \\left(P_{0, t} - \\sum_{i=0}^{2} c_{i, t} w_{i, 0}\\right)^{2}$"
      ],
      "text/plain": [
       "                                                            4                 \n",
       "                                                         _______              \n",
       "                                                         ╲                    \n",
       "                                                          ╲                   \n",
       "          2     4                                          ╲                  \n",
       "         ___   ___                                          ╲    ⎛            \n",
       "         ╲     ╲                                             ╲   ⎜            \n",
       "          ╲     ╲                          2                  ╲  ⎜            \n",
       "\\lambda⋅  ╱     ╱   ((p)[i, t] - (w)[i, 0]) ⋅(d)[i, t] +      ╱  ⎜            \n",
       "         ╱     ╱                                             ╱   ⎜(P)[0, t] - \n",
       "         ‾‾‾   ‾‾‾                                          ╱    ⎜            \n",
       "        i = 0 t = 0                                        ╱     ⎜            \n",
       "                                                          ╱      ⎝            \n",
       "                                                         ╱                    \n",
       "                                                         ‾‾‾‾‾‾‾              \n",
       "                                                          t = 0               \n",
       "\n",
       "                           \n",
       "                           \n",
       "                           \n",
       "                           \n",
       "                          2\n",
       "  2                      ⎞ \n",
       " ___                     ⎟ \n",
       " ╲                       ⎟ \n",
       "  ╲                      ⎟ \n",
       "  ╱   (c)[i, t]⋅(w)[i, 0]⎟ \n",
       " ╱                       ⎟ \n",
       " ‾‾‾                     ⎟ \n",
       "i = 0                    ⎠ \n",
       "                           \n",
       "                           \n",
       "                           "
      ]
     },
     "execution_count": 11,
     "metadata": {},
     "output_type": "execute_result"
    }
   ],
   "source": [
    "I = S1 + lda*S2\n",
    "I"
   ]
  },
  {
   "cell_type": "code",
   "execution_count": 17,
   "id": "1f8e33d2",
   "metadata": {},
   "outputs": [
    {
     "data": {
      "text/latex": [
       "$\\displaystyle \\lambda \\sum_{\\substack{0 \\leq t \\leq 4\\\\0 \\leq i \\leq 2}} \\left(\\left[\\begin{matrix}1 & 1 & 1 & 1 & 1\\\\2 & 2 & 2 & 2 & 2\\\\0 & 0 & 0 & 5 & 5\\end{matrix}\\right]_{i, t} - w_{i, 0}\\right)^{2} \\left[\\begin{matrix}0 & 0 & 0 & 0 & 0\\\\0 & 1 & 0 & 0 & 0\\\\0 & 0 & 0 & 1 & 0\\end{matrix}\\right]_{i, t} + \\sum_{t=0}^{4} \\left(\\left[\\begin{matrix}3 & 3 & 3 & 8 & 8\\end{matrix}\\right]_{0, t} - \\sum_{i=0}^{2} \\left[\\begin{matrix}1 & 1 & 1 & 1 & 1\\\\1 & 1 & 1 & 1 & 1\\\\0 & 0 & 0 & 1 & 1\\end{matrix}\\right]_{i, t} w_{i, 0}\\right)^{2}$"
      ],
      "text/plain": [
       "                                                                              \n",
       "                                                                              \n",
       "                                                                              \n",
       "                                                                              \n",
       "          2     4                                                             \n",
       "        _____ _____                                                           \n",
       "        ╲     ╲                                                               \n",
       "         ╲     ╲                                         2                    \n",
       "          ╲     ╲   ⎛⎛⎡1  1  1  1  1⎤⎞                  ⎞  ⎛⎡0  0  0  0  0⎤⎞  \n",
       "           ╲     ╲  ⎜⎜⎢             ⎥⎟                  ⎟  ⎜⎢             ⎥⎟  \n",
       "\\lambda⋅   ╱     ╱  ⎜⎜⎢2  2  2  2  2⎥⎟[i, t] - (w)[i, 0]⎟ ⋅⎜⎢0  1  0  0  0⎥⎟[i\n",
       "          ╱     ╱   ⎜⎜⎢             ⎥⎟                  ⎟  ⎜⎢             ⎥⎟  \n",
       "         ╱     ╱    ⎝⎝⎣0  0  0  5  5⎦⎠                  ⎠  ⎝⎣0  0  0  1  0⎦⎠  \n",
       "        ╱     ╱                                                               \n",
       "        ‾‾‾‾‾ ‾‾‾‾‾                                                           \n",
       "        i = 0 t = 0                                                           \n",
       "                                                                              \n",
       "                                                                              \n",
       "                                                                              \n",
       "                                                                              \n",
       "\n",
       "           4                                                                  \n",
       "       _________                                                              \n",
       "       ╲                                                                      \n",
       "        ╲                                                                     \n",
       "         ╲                                                                    \n",
       "          ╲      ⎛                            2                               \n",
       "           ╲     ⎜                          _____                             \n",
       "            ╲    ⎜                          ╲                                 \n",
       "             ╲   ⎜                           ╲                                \n",
       "              ╲  ⎜                            ╲   ⎛⎡1  1  1  1  1⎤⎞           \n",
       ", t] +        ╱  ⎜                             ╲  ⎜⎢             ⎥⎟           \n",
       "             ╱   ⎜([3  3  3  8  8])[0, t] -    ╱  ⎜⎢1  1  1  1  1⎥⎟[i, t]⋅(w)[\n",
       "            ╱    ⎜                            ╱   ⎜⎢             ⎥⎟           \n",
       "           ╱     ⎜                           ╱    ⎝⎣0  0  0  1  1⎦⎠           \n",
       "          ╱      ⎜                          ╱                                 \n",
       "         ╱       ⎜                          ‾‾‾‾‾                             \n",
       "        ╱        ⎝                          i = 0                             \n",
       "       ╱                                                                      \n",
       "       ‾‾‾‾‾‾‾‾‾                                                              \n",
       "         t = 0                                                                \n",
       "\n",
       "       \n",
       "       \n",
       "       \n",
       "       \n",
       "      2\n",
       "     ⎞ \n",
       "     ⎟ \n",
       "     ⎟ \n",
       "     ⎟ \n",
       "     ⎟ \n",
       "     ⎟ \n",
       "i, 0]⎟ \n",
       "     ⎟ \n",
       "     ⎟ \n",
       "     ⎟ \n",
       "     ⎟ \n",
       "     ⎠ \n",
       "       \n",
       "       \n",
       "       "
      ]
     },
     "execution_count": 17,
     "metadata": {},
     "output_type": "execute_result"
    }
   ],
   "source": [
    "I2 = I.subs({P: Matrix([[3, 3, 3, 8, 8]]), c: Matrix([[1, 1, 1, 1, 1], [1, 1, 1, 1, 1], [0, 0, 0, 1, 1]])})\n",
    "I3 = I2.subs({d: Matrix([[0, 0, 0, 0, 0], [0, 1, 0, 0, 0], [0, 0, 0, 1, 0]])})\n",
    "Inaccuracy = I3.subs({p: Matrix([[1, 1, 1, 1, 1],  [2, 2, 2, 2, 2], [0, 0, 0, 5, 5]])})\n",
    "Inaccuracy"
   ]
  },
  {
   "cell_type": "code",
   "execution_count": 18,
   "id": "292dd352",
   "metadata": {},
   "outputs": [
    {
     "data": {
      "image/png": "[encoded data removed]",
      "text/latex": [
       "$\\displaystyle \\left[ 0.0\\right]$"
      ],
      "text/plain": [
       "[0.0]"
      ]
     },
     "execution_count": 18,
     "metadata": {},
     "output_type": "execute_result"
    }
   ],
   "source": [
    "# Testing with true result\n",
    "wEval = Matrix([1, 2, 5])\n",
    "regHP = 0.2\n",
    "\n",
    "solve(Inaccuracy.subs({w: wEval, lda: regHP})-eps, eps)"
   ]
  },
  {
   "cell_type": "code",
   "execution_count": 19,
   "id": "2af9bc48",
   "metadata": {},
   "outputs": [],
   "source": [
    "def inac(wTest, *args):\n",
    "    regHP = args[0]\n",
    "    Inaccuracy = args[1]\n",
    "    wEval = Matrix(wTest)\n",
    "    val = solve(Inaccuracy.subs({w: wEval, lda: regHP})-eps, eps)[0]\n",
    "    return(val)"
   ]
  },
  {
   "cell_type": "code",
   "execution_count": 20,
   "id": "5992ac06",
   "metadata": {},
   "outputs": [
    {
     "name": "stdout",
     "output_type": "stream",
     "text": [
      "Optimization terminated successfully.\n",
      "         Current function value: 0.064216\n",
      "         Iterations: 22\n",
      "         Function evaluations: 40\n"
     ]
    },
    {
     "data": {
      "text/plain": [
       "       message: Optimization terminated successfully.\n",
       "       success: True\n",
       "        status: 0\n",
       "           fun: 0.06421585076764084\n",
       "             x: [ 7.836e-01  2.153e+00  5.050e+00]\n",
       "           nit: 22\n",
       "          nfev: 40\n",
       " final_simplex: (array([[ 7.836e-01,  2.153e+00,  5.050e+00],\n",
       "                       [ 8.015e-01,  2.166e+00,  4.969e+00],\n",
       "                       [ 7.798e-01,  2.170e+00,  5.007e+00],\n",
       "                       [ 7.744e-01,  2.126e+00,  5.022e+00]]), array([ 6.422e-02,  6.833e-02,  6.919e-02,  7.469e-02]))"
      ]
     },
     "execution_count": 20,
     "metadata": {},
     "output_type": "execute_result"
    }
   ],
   "source": [
    "w0 = [1, 2, 3]\n",
    "regHP = 2\n",
    "args = (regHP, Inaccuracy)\n",
    "minimize(inac, w0, args=args, method='Nelder-Mead', tol=0.1, options={'disp': True})"
   ]
  },
  {
   "cell_type": "code",
   "execution_count": 160,
   "id": "8f2fbf6f",
   "metadata": {},
   "outputs": [
    {
     "data": {
      "image/png": "[encoded data removed]",
      "text/latex": [
       "$\\displaystyle 10.0$"
      ],
      "text/plain": [
       "10.0000000000000"
      ]
     },
     "execution_count": 160,
     "metadata": {},
     "output_type": "execute_result"
    }
   ],
   "source": [
    "inac([1, 2, 3], 0.5, Inaccuracy)"
   ]
  },
  {
   "cell_type": "code",
   "execution_count": null,
   "id": "e499a2bd",
   "metadata": {},
   "outputs": [],
   "source": []
  }
 ],
 "metadata": {
  "kernelspec": {
   "display_name": "Python 3 (ipykernel)",
   "language": "python",
   "name": "python3"
  },
  "language_info": {
   "codemirror_mode": {
    "name": "ipython",
    "version": 3
   },
   "file_extension": ".py",
   "mimetype": "text/x-python",
   "name": "python",
   "nbconvert_exporter": "python",
   "pygments_lexer": "ipython3",
   "version": "3.9.19"
  }
 },
 "nbformat": 4,
 "nbformat_minor": 5
}
