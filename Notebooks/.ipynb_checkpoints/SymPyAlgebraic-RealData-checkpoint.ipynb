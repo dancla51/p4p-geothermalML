{
 "cells": [
  {
   "cell_type": "code",
   "execution_count": 3,
   "id": "441db858-1415-4663-afd5-8b55956613e7",
   "metadata": {},
   "outputs": [],
   "source": [
    "import numpy as np\n",
    "import pandas as pd\n",
    "from scipy.optimize import minimize\n",
    "from sympy import *\n",
    "init_printing(use_latex=true)\n",
    "filename = \"TestData.xlsx\""
   ]
  },
  {
   "cell_type": "code",
   "execution_count": 16,
   "id": "edd66a00-4b93-41e6-8d84-71dddfcef375",
   "metadata": {},
   "outputs": [],
   "source": [
    "# Establish symbols\n",
    "n, T, i, t, lda, eps = symbols('n T i t \\lambda \\epsilon')       # n wells & T timepoints"
   ]
  },
  {
   "cell_type": "code",
   "execution_count": 19,
   "id": "628f8036-6305-483e-b665-8484861494c3",
   "metadata": {},
   "outputs": [
    {
     "data": {
      "text/plain": [
       "5"
      ]
     },
     "execution_count": 19,
     "metadata": {},
     "output_type": "execute_result"
    }
   ],
   "source": [
    "# Establish number of wells\n",
    "n = pd.read_excel(filename, sheet_name='n').iloc[0,0]\n",
    "n"
   ]
  },
  {
   "cell_type": "code",
   "execution_count": 20,
   "id": "94301698-91f5-4905-b36b-347f8e6c60bb",
   "metadata": {},
   "outputs": [
    {
     "data": {
      "text/plain": [
       "41"
      ]
     },
     "execution_count": 20,
     "metadata": {},
     "output_type": "execute_result"
    }
   ],
   "source": [
    "# Establish number of timepoints\n",
    "T = pd.read_excel(filename, sheet_name='T').iloc[0,0]\n",
    "T"
   ]
  },
  {
   "cell_type": "code",
   "execution_count": 28,
   "id": "9dd2c865-18d3-419c-95ec-61305fbf2163",
   "metadata": {},
   "outputs": [
    {
     "data": {
      "text/latex": [
       "$\\displaystyle \\left[\\begin{array}{ccccccccccccccccccccccccccccccccccccccccc}0 & 0 & 0 & 0 & 0 & 0 & 0 & 0 & 0 & 0 & 0 & 0 & 0 & 0 & 0 & 0 & 0 & 0 & 1 & 1 & 1 & 1 & 1 & 1 & 1 & 1 & 1 & 1 & 1 & 1 & 1 & 1 & 1 & 1 & 1 & 1 & 1 & 1 & 1 & 1 & 1\\\\0 & 0 & 0 & 0 & 0 & 0 & 0 & 0 & 0 & 0 & 0 & 0 & 0 & 0 & 0 & 0 & 0 & 0 & 1 & 1 & 1 & 1 & 1 & 1 & 1 & 1 & 1 & 1 & 1 & 1 & 1 & 1 & 1 & 1 & 1 & 1 & 1 & 1 & 1 & 1 & 1\\\\0 & 0 & 0 & 0 & 0 & 0 & 0 & 0 & 0 & 0 & 0 & 0 & 0 & 0 & 0 & 0 & 0 & 0 & 0 & 0 & 1 & 1 & 1 & 1 & 1 & 1 & 1 & 1 & 1 & 1 & 1 & 1 & 1 & 1 & 1 & 1 & 1 & 1 & 1 & 1 & 1\\\\0 & 0 & 0 & 0 & 0 & 0 & 0 & 0 & 0 & 0 & 0 & 0 & 0 & 0 & 0 & 0 & 0 & 0 & 0 & 0 & 0 & 0 & 1 & 1 & 1 & 1 & 1 & 1 & 1 & 1 & 1 & 1 & 1 & 1 & 1 & 1 & 1 & 1 & 1 & 1 & 1\\\\0 & 0 & 0 & 0 & 0 & 0 & 0 & 0 & 0 & 0 & 0 & 0 & 0 & 0 & 0 & 0 & 0 & 0 & 0 & 0 & 0 & 0 & 0 & 0 & 0 & 0 & 0 & 0 & 1 & 1 & 1 & 1 & 1 & 1 & 1 & 1 & 1 & 1 & 1 & 1 & 1\\end{array}\\right]$"
      ],
      "text/plain": [
       "⎡0  0  0  0  0  0  0  0  0  0  0  0  0  0  0  0  0  0  1  1  1  1  1  1  1  1 \n",
       "⎢                                                                             \n",
       "⎢0  0  0  0  0  0  0  0  0  0  0  0  0  0  0  0  0  0  1  1  1  1  1  1  1  1 \n",
       "⎢                                                                             \n",
       "⎢0  0  0  0  0  0  0  0  0  0  0  0  0  0  0  0  0  0  0  0  1  1  1  1  1  1 \n",
       "⎢                                                                             \n",
       "⎢0  0  0  0  0  0  0  0  0  0  0  0  0  0  0  0  0  0  0  0  0  0  1  1  1  1 \n",
       "⎢                                                                             \n",
       "⎣0  0  0  0  0  0  0  0  0  0  0  0  0  0  0  0  0  0  0  0  0  0  0  0  0  0 \n",
       "\n",
       " 1  1  1  1  1  1  1  1  1  1  1  1  1  1  1⎤\n",
       "                                            ⎥\n",
       " 1  1  1  1  1  1  1  1  1  1  1  1  1  1  1⎥\n",
       "                                            ⎥\n",
       " 1  1  1  1  1  1  1  1  1  1  1  1  1  1  1⎥\n",
       "                                            ⎥\n",
       " 1  1  1  1  1  1  1  1  1  1  1  1  1  1  1⎥\n",
       "                                            ⎥\n",
       " 0  0  1  1  1  1  1  1  1  1  1  1  1  1  1⎦"
      ]
     },
     "execution_count": 28,
     "metadata": {},
     "output_type": "execute_result"
    }
   ],
   "source": [
    "# Establish binary matrix for wells being on or off\n",
    "z = MatrixSymbol('z', n, T)      # Row 0 = well 0   , Column 3 = Timepoint 3\n",
    "#pprint(z.as_explicit())\n",
    "zReal = Matrix(pd.read_excel(filename, sheet_name=\"OnOff\").to_numpy().T)\n",
    "zReal"
   ]
  },
  {
   "cell_type": "code",
   "execution_count": 29,
   "id": "daf10ffc-086a-4c6c-967f-77e74dfecead",
   "metadata": {},
   "outputs": [
    {
     "data": {
      "text/latex": [
       "$\\displaystyle \\left[\\begin{array}{ccccccccccccccccccccccccccccccccccccccccc}0 & 0 & 0 & 0 & 0 & 0 & 0 & 0 & 0 & 0 & 0 & 0 & 0 & 0 & 0 & 0 & 0 & 0 & 0 & 0 & 0 & 0 & 1 & 0 & 0 & 0 & 0 & 0 & 0 & 0 & 0 & 0 & 0 & 0 & 0 & 0 & 0 & 0 & 0 & 0 & 0\\\\0 & 0 & 0 & 0 & 0 & 0 & 0 & 0 & 0 & 0 & 0 & 0 & 0 & 0 & 0 & 0 & 0 & 0 & 0 & 0 & 0 & 0 & 0 & 0 & 0 & 0 & 0 & 1 & 0 & 0 & 0 & 0 & 0 & 0 & 0 & 0 & 0 & 0 & 0 & 0 & 0\\\\0 & 0 & 0 & 0 & 0 & 0 & 0 & 0 & 0 & 0 & 0 & 0 & 0 & 0 & 0 & 0 & 0 & 0 & 0 & 0 & 0 & 0 & 0 & 0 & 0 & 1 & 0 & 0 & 0 & 0 & 0 & 0 & 0 & 0 & 0 & 0 & 0 & 0 & 0 & 0 & 0\\\\0 & 0 & 0 & 0 & 0 & 0 & 0 & 0 & 0 & 0 & 0 & 0 & 0 & 0 & 0 & 0 & 0 & 0 & 0 & 0 & 0 & 0 & 0 & 0 & 0 & 0 & 0 & 0 & 0 & 0 & 0 & 0 & 1 & 0 & 0 & 0 & 0 & 0 & 0 & 0 & 0\\\\0 & 0 & 0 & 0 & 0 & 0 & 0 & 0 & 0 & 0 & 0 & 0 & 0 & 0 & 0 & 0 & 0 & 0 & 0 & 0 & 0 & 0 & 0 & 0 & 0 & 0 & 0 & 0 & 0 & 1 & 0 & 0 & 0 & 0 & 0 & 0 & 0 & 0 & 0 & 0 & 0\\end{array}\\right]$"
      ],
      "text/plain": [
       "⎡0  0  0  0  0  0  0  0  0  0  0  0  0  0  0  0  0  0  0  0  0  0  1  0  0  0 \n",
       "⎢                                                                             \n",
       "⎢0  0  0  0  0  0  0  0  0  0  0  0  0  0  0  0  0  0  0  0  0  0  0  0  0  0 \n",
       "⎢                                                                             \n",
       "⎢0  0  0  0  0  0  0  0  0  0  0  0  0  0  0  0  0  0  0  0  0  0  0  0  0  1 \n",
       "⎢                                                                             \n",
       "⎢0  0  0  0  0  0  0  0  0  0  0  0  0  0  0  0  0  0  0  0  0  0  0  0  0  0 \n",
       "⎢                                                                             \n",
       "⎣0  0  0  0  0  0  0  0  0  0  0  0  0  0  0  0  0  0  0  0  0  0  0  0  0  0 \n",
       "\n",
       " 0  0  0  0  0  0  0  0  0  0  0  0  0  0  0⎤\n",
       "                                            ⎥\n",
       " 0  1  0  0  0  0  0  0  0  0  0  0  0  0  0⎥\n",
       "                                            ⎥\n",
       " 0  0  0  0  0  0  0  0  0  0  0  0  0  0  0⎥\n",
       "                                            ⎥\n",
       " 0  0  0  0  0  0  1  0  0  0  0  0  0  0  0⎥\n",
       "                                            ⎥\n",
       " 0  0  0  1  0  0  0  0  0  0  0  0  0  0  0⎦"
      ]
     },
     "execution_count": 29,
     "metadata": {},
     "output_type": "execute_result"
    }
   ],
   "source": [
    "# Establish binary matrix for wells being measured or not\n",
    "d = MatrixSymbol('d', n, T)      # Row 0 = well 0   , Column 3 = Timepoint 3\n",
    "#pprint(d.as_explicit())\n",
    "dReal = Matrix(pd.read_excel(filename, sheet_name=\"Measured\").to_numpy().T)\n",
    "dReal"
   ]
  },
  {
   "cell_type": "code",
   "execution_count": 34,
   "id": "c53ae321",
   "metadata": {},
   "outputs": [
    {
     "data": {
      "text/latex": [
       "$\\displaystyle \\left[\\begin{array}{ccccccccccccccccccccccccccccccccccccccccc}0 & 0 & 0 & 0 & 0 & 0 & 0 & 0 & 0 & 0 & 0 & 0 & 0 & 0 & 0 & 0 & 0 & 0 & 70.3 & 143.1 & 140.6 & 138.4 & 136.4 & 134.7 & 133.5 & 132.7 & 132.0 & 130.8 & 127.3 & 123.8 & 122.4 & 121.5 & 120.8 & 120.1 & 119.6 & 119.1 & 118.7 & 118.2 & 117.5 & 116.7 & 116.1\\\\0 & 0 & 0 & 0 & 0 & 0 & 0 & 0 & 0 & 0 & 0 & 0 & 0 & 0 & 0 & 0 & 0 & 0 & 65.5 & 133.1 & 130.6 & 128.4 & 126.4 & 124.7 & 123.5 & 122.7 & 122.0 & 120.8 & 117.3 & 113.8 & 112.4 & 111.5 & 110.8 & 110.1 & 109.6 & 109.1 & 108.7 & 108.2 & 107.5 & 106.7 & 106.1\\\\0 & 0 & 0 & 0 & 0 & 0 & 0 & 0 & 0 & 0 & 0 & 0 & 0 & 0 & 0 & 0 & 0 & 0 & 0 & 0 & 36.0 & 61.9 & 61.5 & 60.2 & 59.6 & 59.2 & 58.9 & 58.5 & 57.7 & 56.5 & 55.8 & 55.3 & 55.0 & 54.8 & 54.6 & 54.3 & 54.1 & 54.0 & 53.8 & 53.6 & 53.5\\\\0 & 0 & 0 & 0 & 0 & 0 & 0 & 0 & 0 & 0 & 0 & 0 & 0 & 0 & 0 & 0 & 0 & 0 & 0 & 0 & 0 & 0 & 3.6 & 40.0 & 48.9 & 48.6 & 48.4 & 48.1 & 47.4 & 46.5 & 45.9 & 45.6 & 45.3 & 45.2 & 45.0 & 44.8 & 44.7 & 44.5 & 44.4 & 44.2 & 44.1\\\\0 & 0 & 0 & 0 & 0 & 0 & 0 & 0 & 0 & 0 & 0 & 0 & 0 & 0 & 0 & 0 & 0 & 0 & 0 & 0 & 0 & 0 & 0 & 0 & 0 & 0 & 0 & 0 & 35.7 & 141.8 & 145.1 & 144.3 & 143.8 & 143.3 & 142.9 & 142.4 & 142.0 & 141.6 & 141.2 & 140.8 & 140.5\\end{array}\\right]$"
      ],
      "text/plain": [
       "⎡0  0  0  0  0  0  0  0  0  0  0  0  0  0  0  0  0  0  70.3  143.1  140.6  138\n",
       "⎢                                                                             \n",
       "⎢0  0  0  0  0  0  0  0  0  0  0  0  0  0  0  0  0  0  65.5  133.1  130.6  128\n",
       "⎢                                                                             \n",
       "⎢0  0  0  0  0  0  0  0  0  0  0  0  0  0  0  0  0  0   0      0    36.0   61.\n",
       "⎢                                                                             \n",
       "⎢0  0  0  0  0  0  0  0  0  0  0  0  0  0  0  0  0  0   0      0      0      0\n",
       "⎢                                                                             \n",
       "⎣0  0  0  0  0  0  0  0  0  0  0  0  0  0  0  0  0  0   0      0      0      0\n",
       "\n",
       ".4  136.4  134.7  133.5  132.7  132.0  130.8  127.3  123.8  122.4  121.5  120.\n",
       "                                                                              \n",
       ".4  126.4  124.7  123.5  122.7  122.0  120.8  117.3  113.8  112.4  111.5  110.\n",
       "                                                                              \n",
       "9   61.5   60.2   59.6   59.2   58.9   58.5   57.7   56.5   55.8   55.3   55.0\n",
       "                                                                              \n",
       "     3.6   40.0   48.9   48.6   48.4   48.1   47.4   46.5   45.9   45.6   45.3\n",
       "                                                                              \n",
       "      0      0      0      0      0      0    35.7   141.8  145.1  144.3  143.\n",
       "\n",
       "8  120.1  119.6  119.1  118.7  118.2  117.5  116.7  116.1⎤\n",
       "                                                         ⎥\n",
       "8  110.1  109.6  109.1  108.7  108.2  107.5  106.7  106.1⎥\n",
       "                                                         ⎥\n",
       "   54.8   54.6   54.3   54.1   54.0   53.8   53.6   53.5 ⎥\n",
       "                                                         ⎥\n",
       "   45.2   45.0   44.8   44.7   44.5   44.4   44.2   44.1 ⎥\n",
       "                                                         ⎥\n",
       "8  143.3  142.9  142.4  142.0  141.6  141.2  140.8  140.5⎦"
      ]
     },
     "execution_count": 34,
     "metadata": {},
     "output_type": "execute_result"
    }
   ],
   "source": [
    "# Establish matrix of actual mass flows\n",
    "m = MatrixSymbol('m', n, T)  \n",
    "#pprint(m.as_explicit())\n",
    "dReal = Matrix(pd.read_excel(filename, sheet_name=\"MassFlows\").to_numpy().T)\n",
    "dReal"
   ]
  },
  {
   "cell_type": "code",
   "execution_count": null,
   "id": "70d12d2c-73de-498d-bfff-4c1b9ffef7cd",
   "metadata": {},
   "outputs": [],
   "source": [
    "# Establish matrix / vector of total mass flow\n",
    "M = MatrixSymbol('M', 1, T)\n",
    "pprint(M.as_explicit())\n",
    "MReal = 0"
   ]
  },
  {
   "cell_type": "code",
   "execution_count": 32,
   "id": "9008042a",
   "metadata": {},
   "outputs": [
    {
     "name": "stdout",
     "output_type": "stream",
     "text": [
      "[M₀₀  M₀₁  M₀₂  M₀₃  M₀₄  M₀₅  M₀₆  M₀₇  M₀₈  M₀₉  M₀₁₀  M₀₁₁  M₀₁₂  M₀₁₃  M₀₁\n",
      "₄  M₀₁₅  M₀₁₆  M₀₁₇  M₀₁₈  M₀₁₉  M₀₂₀  M₀₂₁  M₀₂₂  M₀₂₃  M₀₂₄  M₀₂₅  M₀₂₆  M₀₂\n",
      "₇  M₀₂₈  M₀₂₉  M₀₃₀  M₀₃₁  M₀₃₂  M₀₃₃  M₀₃₄  M₀₃₅  M₀₃₆  M₀₃₇  M₀₃₈  M₀₃₉  M₀₄\n",
      "₀]\n"
     ]
    }
   ],
   "source": [
    "\n",
    "w = MatrixSymbol('w', n, 1)\n",
    "pprint(w.as_explicit())"
   ]
  },
  {
   "cell_type": "code",
   "execution_count": null,
   "id": "d04a3ffb",
   "metadata": {},
   "outputs": [],
   "source": [
    "S1 = Sum((M[0,t] - Sum(z[i, t]*w[i,0], (i, 0, n-1)))**2 , (t, 0, T-1))\n",
    "S1"
   ]
  },
  {
   "cell_type": "code",
   "execution_count": null,
   "id": "d5090c41",
   "metadata": {},
   "outputs": [],
   "source": [
    "S2 = Sum(Sum(d[i,t]*((m[i,t]-w[i, 0]))**2 , (t, 0, T-1)), (i, 0, n-1))\n",
    "S2"
   ]
  },
  {
   "cell_type": "code",
   "execution_count": null,
   "id": "bd917970",
   "metadata": {},
   "outputs": [],
   "source": [
    "I = S1 + lda*S2\n",
    "I"
   ]
  },
  {
   "cell_type": "code",
   "execution_count": null,
   "id": "1f8e33d2",
   "metadata": {},
   "outputs": [],
   "source": [
    "Inaccuracy = I.subs({M: MReal, z: zReal, d: dReal, m: mReal})\n",
    "Inaccuracy"
   ]
  },
  {
   "cell_type": "code",
   "execution_count": null,
   "id": "292dd352",
   "metadata": {},
   "outputs": [],
   "source": [
    "# Testing with true result\n",
    "wEval = Matrix([1, 2, 5])\n",
    "regHP = 0.2\n",
    "\n",
    "solve(Inaccuracy.subs({w: wEval, lda: regHP})-eps, eps)"
   ]
  },
  {
   "cell_type": "code",
   "execution_count": null,
   "id": "2af9bc48",
   "metadata": {},
   "outputs": [],
   "source": [
    "def inac(wTest, *args):\n",
    "    regHP = args[0]\n",
    "    Inaccuracy = args[1]\n",
    "    wEval = Matrix(wTest)\n",
    "    val = solve(Inaccuracy.subs({w: wEval, lda: regHP})-eps, eps)[0]\n",
    "    return(val)"
   ]
  },
  {
   "cell_type": "code",
   "execution_count": null,
   "id": "5992ac06",
   "metadata": {},
   "outputs": [],
   "source": [
    "w0 = [1, 2, 3]\n",
    "regHP = 2\n",
    "args = (regHP, Inaccuracy)\n",
    "minimize(inac, w0, args=args, method='Nelder-Mead', tol=0.1, options={'disp': True})"
   ]
  },
  {
   "cell_type": "code",
   "execution_count": null,
   "id": "8f2fbf6f",
   "metadata": {},
   "outputs": [],
   "source": [
    "inac([1, 2, 3], 0.5, Inaccuracy)"
   ]
  },
  {
   "cell_type": "code",
   "execution_count": null,
   "id": "e499a2bd",
   "metadata": {},
   "outputs": [],
   "source": []
  }
 ],
 "metadata": {
  "kernelspec": {
   "display_name": "Python 3 (ipykernel)",
   "language": "python",
   "name": "python3"
  },
  "language_info": {
   "codemirror_mode": {
    "name": "ipython",
    "version": 3
   },
   "file_extension": ".py",
   "mimetype": "text/x-python",
   "name": "python",
   "nbconvert_exporter": "python",
   "pygments_lexer": "ipython3",
   "version": "3.9.19"
  }
 },
 "nbformat": 4,
 "nbformat_minor": 5
}
