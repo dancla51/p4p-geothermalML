{
 "cells": [
  {
   "cell_type": "code",
   "execution_count": 1,
   "id": "441db858-1415-4663-afd5-8b55956613e7",
   "metadata": {},
   "outputs": [],
   "source": [
    "import numpy as np\n",
    "import pandas as pd\n",
    "from scipy.optimize import minimize\n",
    "from sympy import *\n",
    "import matplotlib.pyplot as plt\n",
    "init_printing(use_latex=true)\n",
    "filename = \"TestData.xlsx\""
   ]
  },
  {
   "cell_type": "code",
   "execution_count": 2,
   "id": "edd66a00-4b93-41e6-8d84-71dddfcef375",
   "metadata": {},
   "outputs": [],
   "source": [
    "# Establish symbols\n",
    "n, T, i, t, lda, eps = symbols('n T i t \\lambda \\epsilon')       # n wells & T timepoints"
   ]
  },
  {
   "cell_type": "code",
   "execution_count": 3,
   "id": "628f8036-6305-483e-b665-8484861494c3",
   "metadata": {},
   "outputs": [
    {
     "data": {
      "text/plain": [
       "5"
      ]
     },
     "execution_count": 3,
     "metadata": {},
     "output_type": "execute_result"
    }
   ],
   "source": [
    "# Establish number of wells\n",
    "n = pd.read_excel(filename, sheet_name='n').iloc[0,0]\n",
    "n"
   ]
  },
  {
   "cell_type": "code",
   "execution_count": 4,
   "id": "94301698-91f5-4905-b36b-347f8e6c60bb",
   "metadata": {},
   "outputs": [
    {
     "data": {
      "text/plain": [
       "41"
      ]
     },
     "execution_count": 4,
     "metadata": {},
     "output_type": "execute_result"
    }
   ],
   "source": [
    "# Establish number of timepoints\n",
    "T = pd.read_excel(filename, sheet_name='T').iloc[0,0]\n",
    "T"
   ]
  },
  {
   "cell_type": "code",
   "execution_count": 5,
   "id": "9dd2c865-18d3-419c-95ec-61305fbf2163",
   "metadata": {},
   "outputs": [
    {
     "data": {
      "text/latex": [
       "$\\displaystyle \\left[\\begin{array}{ccccccccccccccccccccccccccccccccccccccccc}0 & 0 & 0 & 0 & 0 & 0 & 0 & 0 & 0 & 0 & 0 & 0 & 0 & 0 & 0 & 0 & 0 & 0 & 1 & 1 & 1 & 1 & 1 & 1 & 1 & 1 & 1 & 1 & 1 & 1 & 1 & 1 & 1 & 1 & 1 & 1 & 1 & 1 & 1 & 1 & 1\\\\0 & 0 & 0 & 0 & 0 & 0 & 0 & 0 & 0 & 0 & 0 & 0 & 0 & 0 & 0 & 0 & 0 & 0 & 1 & 1 & 1 & 1 & 1 & 1 & 1 & 1 & 1 & 1 & 1 & 1 & 1 & 1 & 1 & 1 & 1 & 1 & 1 & 1 & 1 & 1 & 1\\\\0 & 0 & 0 & 0 & 0 & 0 & 0 & 0 & 0 & 0 & 0 & 0 & 0 & 0 & 0 & 0 & 0 & 0 & 0 & 0 & 1 & 1 & 1 & 1 & 1 & 1 & 1 & 1 & 1 & 1 & 1 & 1 & 1 & 1 & 1 & 1 & 1 & 1 & 1 & 1 & 1\\\\0 & 0 & 0 & 0 & 0 & 0 & 0 & 0 & 0 & 0 & 0 & 0 & 0 & 0 & 0 & 0 & 0 & 0 & 0 & 0 & 0 & 0 & 1 & 1 & 1 & 1 & 1 & 1 & 1 & 1 & 1 & 1 & 1 & 1 & 1 & 1 & 1 & 1 & 1 & 1 & 1\\\\0 & 0 & 0 & 0 & 0 & 0 & 0 & 0 & 0 & 0 & 0 & 0 & 0 & 0 & 0 & 0 & 0 & 0 & 0 & 0 & 0 & 0 & 0 & 0 & 0 & 0 & 0 & 0 & 1 & 1 & 1 & 1 & 1 & 1 & 1 & 1 & 1 & 1 & 1 & 1 & 1\\end{array}\\right]$"
      ],
      "text/plain": [
       "⎡0  0  0  0  0  0  0  0  0  0  0  0  0  0  0  0  0  0  1  1  1  1  1  1  1  1 \n",
       "⎢                                                                             \n",
       "⎢0  0  0  0  0  0  0  0  0  0  0  0  0  0  0  0  0  0  1  1  1  1  1  1  1  1 \n",
       "⎢                                                                             \n",
       "⎢0  0  0  0  0  0  0  0  0  0  0  0  0  0  0  0  0  0  0  0  1  1  1  1  1  1 \n",
       "⎢                                                                             \n",
       "⎢0  0  0  0  0  0  0  0  0  0  0  0  0  0  0  0  0  0  0  0  0  0  1  1  1  1 \n",
       "⎢                                                                             \n",
       "⎣0  0  0  0  0  0  0  0  0  0  0  0  0  0  0  0  0  0  0  0  0  0  0  0  0  0 \n",
       "\n",
       " 1  1  1  1  1  1  1  1  1  1  1  1  1  1  1⎤\n",
       "                                            ⎥\n",
       " 1  1  1  1  1  1  1  1  1  1  1  1  1  1  1⎥\n",
       "                                            ⎥\n",
       " 1  1  1  1  1  1  1  1  1  1  1  1  1  1  1⎥\n",
       "                                            ⎥\n",
       " 1  1  1  1  1  1  1  1  1  1  1  1  1  1  1⎥\n",
       "                                            ⎥\n",
       " 0  0  1  1  1  1  1  1  1  1  1  1  1  1  1⎦"
      ]
     },
     "execution_count": 5,
     "metadata": {},
     "output_type": "execute_result"
    }
   ],
   "source": [
    "# Establish binary matrix for wells being on or off\n",
    "z = MatrixSymbol('z', n, T)      # Row 0 = well 0   , Column 3 = Timepoint 3\n",
    "#pprint(z.as_explicit())\n",
    "zReal = Matrix(pd.read_excel(filename, sheet_name=\"OnOff\").to_numpy().T)\n",
    "zReal"
   ]
  },
  {
   "cell_type": "code",
   "execution_count": 6,
   "id": "daf10ffc-086a-4c6c-967f-77e74dfecead",
   "metadata": {},
   "outputs": [
    {
     "data": {
      "text/latex": [
       "$\\displaystyle \\left[\\begin{array}{ccccccccccccccccccccccccccccccccccccccccc}0 & 0 & 0 & 0 & 0 & 0 & 0 & 0 & 0 & 0 & 0 & 0 & 0 & 0 & 0 & 0 & 0 & 0 & 0 & 0 & 0 & 0 & 1 & 0 & 0 & 0 & 0 & 0 & 0 & 0 & 0 & 0 & 0 & 0 & 0 & 0 & 0 & 0 & 0 & 0 & 0\\\\0 & 0 & 0 & 0 & 0 & 0 & 0 & 0 & 0 & 0 & 0 & 0 & 0 & 0 & 0 & 0 & 0 & 0 & 0 & 0 & 0 & 0 & 0 & 0 & 0 & 0 & 0 & 1 & 0 & 0 & 0 & 0 & 0 & 0 & 0 & 0 & 0 & 0 & 0 & 0 & 0\\\\0 & 0 & 0 & 0 & 0 & 0 & 0 & 0 & 0 & 0 & 0 & 0 & 0 & 0 & 0 & 0 & 0 & 0 & 0 & 0 & 0 & 0 & 0 & 0 & 0 & 1 & 0 & 0 & 0 & 0 & 0 & 0 & 0 & 0 & 0 & 0 & 0 & 0 & 0 & 0 & 0\\\\0 & 0 & 0 & 0 & 0 & 0 & 0 & 0 & 0 & 0 & 0 & 0 & 0 & 0 & 0 & 0 & 0 & 0 & 0 & 0 & 0 & 0 & 0 & 0 & 0 & 0 & 0 & 0 & 0 & 0 & 0 & 0 & 1 & 0 & 0 & 0 & 0 & 0 & 0 & 0 & 0\\\\0 & 0 & 0 & 0 & 0 & 0 & 0 & 0 & 0 & 0 & 0 & 0 & 0 & 0 & 0 & 0 & 0 & 0 & 0 & 0 & 0 & 0 & 0 & 0 & 0 & 0 & 0 & 0 & 0 & 1 & 0 & 0 & 0 & 0 & 0 & 0 & 0 & 0 & 0 & 0 & 0\\end{array}\\right]$"
      ],
      "text/plain": [
       "⎡0  0  0  0  0  0  0  0  0  0  0  0  0  0  0  0  0  0  0  0  0  0  1  0  0  0 \n",
       "⎢                                                                             \n",
       "⎢0  0  0  0  0  0  0  0  0  0  0  0  0  0  0  0  0  0  0  0  0  0  0  0  0  0 \n",
       "⎢                                                                             \n",
       "⎢0  0  0  0  0  0  0  0  0  0  0  0  0  0  0  0  0  0  0  0  0  0  0  0  0  1 \n",
       "⎢                                                                             \n",
       "⎢0  0  0  0  0  0  0  0  0  0  0  0  0  0  0  0  0  0  0  0  0  0  0  0  0  0 \n",
       "⎢                                                                             \n",
       "⎣0  0  0  0  0  0  0  0  0  0  0  0  0  0  0  0  0  0  0  0  0  0  0  0  0  0 \n",
       "\n",
       " 0  0  0  0  0  0  0  0  0  0  0  0  0  0  0⎤\n",
       "                                            ⎥\n",
       " 0  1  0  0  0  0  0  0  0  0  0  0  0  0  0⎥\n",
       "                                            ⎥\n",
       " 0  0  0  0  0  0  0  0  0  0  0  0  0  0  0⎥\n",
       "                                            ⎥\n",
       " 0  0  0  0  0  0  1  0  0  0  0  0  0  0  0⎥\n",
       "                                            ⎥\n",
       " 0  0  0  1  0  0  0  0  0  0  0  0  0  0  0⎦"
      ]
     },
     "execution_count": 6,
     "metadata": {},
     "output_type": "execute_result"
    }
   ],
   "source": [
    "# Establish binary matrix for wells being measured or not\n",
    "d = MatrixSymbol('d', n, T)      # Row 0 = well 0   , Column 3 = Timepoint 3\n",
    "#pprint(d.as_explicit())\n",
    "dReal = Matrix(pd.read_excel(filename, sheet_name=\"Measured\").to_numpy().T)\n",
    "dReal"
   ]
  },
  {
   "cell_type": "code",
   "execution_count": 7,
   "id": "c53ae321",
   "metadata": {},
   "outputs": [
    {
     "data": {
      "text/latex": [
       "$\\displaystyle \\left[\\begin{array}{ccccccccccccccccccccccccccccccccccccccccc}0 & 0 & 0 & 0 & 0 & 0 & 0 & 0 & 0 & 0 & 0 & 0 & 0 & 0 & 0 & 0 & 0 & 0 & 70.3 & 143.1 & 140.6 & 138.4 & 136.4 & 134.7 & 133.5 & 132.7 & 132.0 & 130.8 & 127.3 & 123.8 & 122.4 & 121.5 & 120.8 & 120.1 & 119.6 & 119.1 & 118.7 & 118.2 & 117.5 & 116.7 & 116.1\\\\0 & 0 & 0 & 0 & 0 & 0 & 0 & 0 & 0 & 0 & 0 & 0 & 0 & 0 & 0 & 0 & 0 & 0 & 65.5 & 133.1 & 130.6 & 128.4 & 126.4 & 124.7 & 123.5 & 122.7 & 122.0 & 120.8 & 117.3 & 113.8 & 112.4 & 111.5 & 110.8 & 110.1 & 109.6 & 109.1 & 108.7 & 108.2 & 107.5 & 106.7 & 106.1\\\\0 & 0 & 0 & 0 & 0 & 0 & 0 & 0 & 0 & 0 & 0 & 0 & 0 & 0 & 0 & 0 & 0 & 0 & 0 & 0 & 36.0 & 61.9 & 61.5 & 60.2 & 59.6 & 59.2 & 58.9 & 58.5 & 57.7 & 56.5 & 55.8 & 55.3 & 55.0 & 54.8 & 54.6 & 54.3 & 54.1 & 54.0 & 53.8 & 53.6 & 53.5\\\\0 & 0 & 0 & 0 & 0 & 0 & 0 & 0 & 0 & 0 & 0 & 0 & 0 & 0 & 0 & 0 & 0 & 0 & 0 & 0 & 0 & 0 & 3.6 & 40.0 & 48.9 & 48.6 & 48.4 & 48.1 & 47.4 & 46.5 & 45.9 & 45.6 & 45.3 & 45.2 & 45.0 & 44.8 & 44.7 & 44.5 & 44.4 & 44.2 & 44.1\\\\0 & 0 & 0 & 0 & 0 & 0 & 0 & 0 & 0 & 0 & 0 & 0 & 0 & 0 & 0 & 0 & 0 & 0 & 0 & 0 & 0 & 0 & 0 & 0 & 0 & 0 & 0 & 0 & 35.7 & 141.8 & 145.1 & 144.3 & 143.8 & 143.3 & 142.9 & 142.4 & 142.0 & 141.6 & 141.2 & 140.8 & 140.5\\end{array}\\right]$"
      ],
      "text/plain": [
       "⎡0  0  0  0  0  0  0  0  0  0  0  0  0  0  0  0  0  0  70.3  143.1  140.6  138\n",
       "⎢                                                                             \n",
       "⎢0  0  0  0  0  0  0  0  0  0  0  0  0  0  0  0  0  0  65.5  133.1  130.6  128\n",
       "⎢                                                                             \n",
       "⎢0  0  0  0  0  0  0  0  0  0  0  0  0  0  0  0  0  0   0      0    36.0   61.\n",
       "⎢                                                                             \n",
       "⎢0  0  0  0  0  0  0  0  0  0  0  0  0  0  0  0  0  0   0      0      0      0\n",
       "⎢                                                                             \n",
       "⎣0  0  0  0  0  0  0  0  0  0  0  0  0  0  0  0  0  0   0      0      0      0\n",
       "\n",
       ".4  136.4  134.7  133.5  132.7  132.0  130.8  127.3  123.8  122.4  121.5  120.\n",
       "                                                                              \n",
       ".4  126.4  124.7  123.5  122.7  122.0  120.8  117.3  113.8  112.4  111.5  110.\n",
       "                                                                              \n",
       "9   61.5   60.2   59.6   59.2   58.9   58.5   57.7   56.5   55.8   55.3   55.0\n",
       "                                                                              \n",
       "     3.6   40.0   48.9   48.6   48.4   48.1   47.4   46.5   45.9   45.6   45.3\n",
       "                                                                              \n",
       "      0      0      0      0      0      0    35.7   141.8  145.1  144.3  143.\n",
       "\n",
       "8  120.1  119.6  119.1  118.7  118.2  117.5  116.7  116.1⎤\n",
       "                                                         ⎥\n",
       "8  110.1  109.6  109.1  108.7  108.2  107.5  106.7  106.1⎥\n",
       "                                                         ⎥\n",
       "   54.8   54.6   54.3   54.1   54.0   53.8   53.6   53.5 ⎥\n",
       "                                                         ⎥\n",
       "   45.2   45.0   44.8   44.7   44.5   44.4   44.2   44.1 ⎥\n",
       "                                                         ⎥\n",
       "8  143.3  142.9  142.4  142.0  141.6  141.2  140.8  140.5⎦"
      ]
     },
     "execution_count": 7,
     "metadata": {},
     "output_type": "execute_result"
    }
   ],
   "source": [
    "# Establish matrix of actual mass flows\n",
    "m = MatrixSymbol('m', n, T)  \n",
    "#pprint(m.as_explicit())\n",
    "mReal = Matrix(pd.read_excel(filename, sheet_name=\"MassFlows\").to_numpy().T)\n",
    "mReal"
   ]
  },
  {
   "cell_type": "code",
   "execution_count": 8,
   "id": "70d12d2c-73de-498d-bfff-4c1b9ffef7cd",
   "metadata": {},
   "outputs": [
    {
     "data": {
      "text/latex": [
       "$\\displaystyle \\left[\\begin{array}{ccccccccccccccccccccccccccccccccccccccccc}0 & 0 & 0 & 0 & 0 & 0 & 0 & 0 & 0 & 0 & 0 & 0 & 0 & 0 & 0 & 0 & 0 & 0.02 & 135.81 & 276.19 & 307.2 & 328.59 & 327.84 & 359.56 & 365.59 & 363.27 & 361.32 & 358.23 & 385.31 & 482.47 & 481.56 & 478.19 & 475.64 & 473.44 & 471.56 & 469.85 & 468.27 & 466.42 & 464.29 & 461.96 & 460.39\\end{array}\\right]$"
      ],
      "text/plain": [
       "[0  0  0  0  0  0  0  0  0  0  0  0  0  0  0  0  0  0.02  135.81  276.19  307.\n",
       "2  328.59  327.84  359.56  365.59  363.27  361.32  358.23  385.31  482.47  481\n",
       ".56  478.19  475.64  473.44  471.56  469.85  468.27  466.42  464.29  461.96  4\n",
       "60.39]"
      ]
     },
     "execution_count": 8,
     "metadata": {},
     "output_type": "execute_result"
    }
   ],
   "source": [
    "# Establish matrix / vector of total mass flow\n",
    "M = MatrixSymbol('M', 1, T)\n",
    "#pprint(M.as_explicit())\n",
    "MReal = Matrix(pd.read_excel(filename, sheet_name=\"TotalMassFlow\").to_numpy().T)\n",
    "MReal"
   ]
  },
  {
   "cell_type": "code",
   "execution_count": 9,
   "id": "9008042a",
   "metadata": {},
   "outputs": [
    {
     "name": "stdout",
     "output_type": "stream",
     "text": [
      "⎡wg₀₀⎤\n",
      "⎢    ⎥\n",
      "⎢wg₁₀⎥\n",
      "⎢    ⎥\n",
      "⎢wg₂₀⎥\n",
      "⎢    ⎥\n",
      "⎢wg₃₀⎥\n",
      "⎢    ⎥\n",
      "⎣wg₄₀⎦\n",
      "⎡wc₀₀⎤\n",
      "⎢    ⎥\n",
      "⎢wc₁₀⎥\n",
      "⎢    ⎥\n",
      "⎢wc₂₀⎥\n",
      "⎢    ⎥\n",
      "⎢wc₃₀⎥\n",
      "⎢    ⎥\n",
      "⎣wc₄₀⎦\n"
     ]
    }
   ],
   "source": [
    "# Establish solution vectors of initial mass flows and gradients per well \n",
    "wg = MatrixSymbol('wg', n, 1)\n",
    "pprint(wg.as_explicit())\n",
    "wc = MatrixSymbol('wc', n, 1)\n",
    "pprint(wc.as_explicit())\n",
    "\n",
    "# At any timepoint, w = wc + t*wg"
   ]
  },
  {
   "cell_type": "code",
   "execution_count": 10,
   "id": "d04a3ffb",
   "metadata": {},
   "outputs": [
    {
     "data": {
      "image/png": "[encoded data removed]",
      "text/latex": [
       "$\\displaystyle \\sum_{t=0}^{40} \\left(M_{0, t} - \\sum_{i=0}^{4} \\left(t wg_{i, 0} + wc_{i, 0}\\right) z_{i, t}\\right)^{2}$"
      ],
      "text/plain": [
       "   40                                                             \n",
       "_______                                                           \n",
       "╲                                                                 \n",
       " ╲                                                                \n",
       "  ╲                                                              2\n",
       "   ╲    ⎛              4                                        ⎞ \n",
       "    ╲   ⎜             ___                                       ⎟ \n",
       "     ╲  ⎜             ╲                                         ⎟ \n",
       "     ╱  ⎜              ╲                                        ⎟ \n",
       "    ╱   ⎜(M)[0, t] -   ╱   (t⋅(wg)[i, 0] + (wc)[i, 0])⋅(z)[i, t]⎟ \n",
       "   ╱    ⎜             ╱                                         ⎟ \n",
       "  ╱     ⎜             ‾‾‾                                       ⎟ \n",
       " ╱      ⎝            i = 0                                      ⎠ \n",
       "╱                                                                 \n",
       "‾‾‾‾‾‾‾                                                           \n",
       " t = 0                                                            "
      ]
     },
     "execution_count": 10,
     "metadata": {},
     "output_type": "execute_result"
    }
   ],
   "source": [
    "S1 = Sum((M[0,t] - Sum(z[i, t]*(wc[i,0]+t*wg[i,0]), (i, 0, n-1)))**2 , (t, 0, T-1))\n",
    "S1"
   ]
  },
  {
   "cell_type": "code",
   "execution_count": 11,
   "id": "d5090c41",
   "metadata": {},
   "outputs": [
    {
     "data": {
      "image/png": "[encoded data removed]",
      "text/latex": [
       "$\\displaystyle \\sum_{\\substack{0 \\leq t \\leq 40\\\\0 \\leq i \\leq 4}} \\left(- t wg_{i, 0} + m_{i, t} - wc_{i, 0}\\right)^{2} d_{i, t}$"
      ],
      "text/plain": [
       "  4     40                                                     \n",
       " ___   ___                                                     \n",
       " ╲     ╲                                                       \n",
       "  ╲     ╲                                           2          \n",
       "  ╱     ╱   (-t⋅(wg)[i, 0] + (m)[i, t] - (wc)[i, 0]) ⋅(d)[i, t]\n",
       " ╱     ╱                                                       \n",
       " ‾‾‾   ‾‾‾                                                     \n",
       "i = 0 t = 0                                                    "
      ]
     },
     "execution_count": 11,
     "metadata": {},
     "output_type": "execute_result"
    }
   ],
   "source": [
    "S2 = Sum(Sum(d[i,t]*((m[i,t]-(wc[i,0]+t*wg[i,0])))**2 , (t, 0, T-1)), (i, 0, n-1))\n",
    "S2"
   ]
  },
  {
   "cell_type": "code",
   "execution_count": 12,
   "id": "bd917970",
   "metadata": {},
   "outputs": [
    {
     "data": {
      "image/png": "[encoded data removed]",
      "text/latex": [
       "$\\displaystyle \\lambda \\sum_{\\substack{0 \\leq t \\leq 40\\\\0 \\leq i \\leq 4}} \\left(- t wg_{i, 0} + m_{i, t} - wc_{i, 0}\\right)^{2} d_{i, t} + \\sum_{t=0}^{40} \\left(M_{0, t} - \\sum_{i=0}^{4} \\left(t wg_{i, 0} + wc_{i, 0}\\right) z_{i, t}\\right)^{2}$"
      ],
      "text/plain": [
       "                                                                             4\n",
       "                                                                          ____\n",
       "                                                                          ╲   \n",
       "                                                                           ╲  \n",
       "          4     40                                                          ╲ \n",
       "         ___   ___                                                           ╲\n",
       "         ╲     ╲                                                              \n",
       "          ╲     ╲                                           2                 \n",
       "\\lambda⋅  ╱     ╱   (-t⋅(wg)[i, 0] + (m)[i, t] - (wc)[i, 0]) ⋅(d)[i, t] +     \n",
       "         ╱     ╱                                                              \n",
       "         ‾‾‾   ‾‾‾                                                           ╱\n",
       "        i = 0 t = 0                                                         ╱ \n",
       "                                                                           ╱  \n",
       "                                                                          ╱   \n",
       "                                                                          ‾‾‾‾\n",
       "                                                                           t =\n",
       "\n",
       "0                                                             \n",
       "___                                                           \n",
       "                                                              \n",
       "                                                              \n",
       "                                                             2\n",
       "    ⎛              4                                        ⎞ \n",
       "╲   ⎜             ___                                       ⎟ \n",
       " ╲  ⎜             ╲                                         ⎟ \n",
       " ╱  ⎜              ╲                                        ⎟ \n",
       "╱   ⎜(M)[0, t] -   ╱   (t⋅(wg)[i, 0] + (wc)[i, 0])⋅(z)[i, t]⎟ \n",
       "    ⎜             ╱                                         ⎟ \n",
       "    ⎜             ‾‾‾                                       ⎟ \n",
       "    ⎝            i = 0                                      ⎠ \n",
       "                                                              \n",
       "‾‾‾                                                           \n",
       " 0                                                            "
      ]
     },
     "execution_count": 12,
     "metadata": {},
     "output_type": "execute_result"
    }
   ],
   "source": [
    "I = S1 + lda*S2\n",
    "I"
   ]
  },
  {
   "cell_type": "code",
   "execution_count": 13,
   "id": "1f8e33d2",
   "metadata": {},
   "outputs": [
    {
     "data": {
      "text/latex": [
       "$\\displaystyle \\lambda \\sum_{\\substack{0 \\leq t \\leq 40\\\\0 \\leq i \\leq 4}} \\left(- t wg_{i, 0} + \\left[\\begin{array}{ccccccccccccccccccccccccccccccccccccccccc}0 & 0 & 0 & 0 & 0 & 0 & 0 & 0 & 0 & 0 & 0 & 0 & 0 & 0 & 0 & 0 & 0 & 0 & 70.3 & 143.1 & 140.6 & 138.4 & 136.4 & 134.7 & 133.5 & 132.7 & 132.0 & 130.8 & 127.3 & 123.8 & 122.4 & 121.5 & 120.8 & 120.1 & 119.6 & 119.1 & 118.7 & 118.2 & 117.5 & 116.7 & 116.1\\\\0 & 0 & 0 & 0 & 0 & 0 & 0 & 0 & 0 & 0 & 0 & 0 & 0 & 0 & 0 & 0 & 0 & 0 & 65.5 & 133.1 & 130.6 & 128.4 & 126.4 & 124.7 & 123.5 & 122.7 & 122.0 & 120.8 & 117.3 & 113.8 & 112.4 & 111.5 & 110.8 & 110.1 & 109.6 & 109.1 & 108.7 & 108.2 & 107.5 & 106.7 & 106.1\\\\0 & 0 & 0 & 0 & 0 & 0 & 0 & 0 & 0 & 0 & 0 & 0 & 0 & 0 & 0 & 0 & 0 & 0 & 0 & 0 & 36.0 & 61.9 & 61.5 & 60.2 & 59.6 & 59.2 & 58.9 & 58.5 & 57.7 & 56.5 & 55.8 & 55.3 & 55.0 & 54.8 & 54.6 & 54.3 & 54.1 & 54.0 & 53.8 & 53.6 & 53.5\\\\0 & 0 & 0 & 0 & 0 & 0 & 0 & 0 & 0 & 0 & 0 & 0 & 0 & 0 & 0 & 0 & 0 & 0 & 0 & 0 & 0 & 0 & 3.6 & 40.0 & 48.9 & 48.6 & 48.4 & 48.1 & 47.4 & 46.5 & 45.9 & 45.6 & 45.3 & 45.2 & 45.0 & 44.8 & 44.7 & 44.5 & 44.4 & 44.2 & 44.1\\\\0 & 0 & 0 & 0 & 0 & 0 & 0 & 0 & 0 & 0 & 0 & 0 & 0 & 0 & 0 & 0 & 0 & 0 & 0 & 0 & 0 & 0 & 0 & 0 & 0 & 0 & 0 & 0 & 35.7 & 141.8 & 145.1 & 144.3 & 143.8 & 143.3 & 142.9 & 142.4 & 142.0 & 141.6 & 141.2 & 140.8 & 140.5\\end{array}\\right]_{i, t} - wc_{i, 0}\\right)^{2} \\left[\\begin{array}{ccccccccccccccccccccccccccccccccccccccccc}0 & 0 & 0 & 0 & 0 & 0 & 0 & 0 & 0 & 0 & 0 & 0 & 0 & 0 & 0 & 0 & 0 & 0 & 0 & 0 & 0 & 0 & 1 & 0 & 0 & 0 & 0 & 0 & 0 & 0 & 0 & 0 & 0 & 0 & 0 & 0 & 0 & 0 & 0 & 0 & 0\\\\0 & 0 & 0 & 0 & 0 & 0 & 0 & 0 & 0 & 0 & 0 & 0 & 0 & 0 & 0 & 0 & 0 & 0 & 0 & 0 & 0 & 0 & 0 & 0 & 0 & 0 & 0 & 1 & 0 & 0 & 0 & 0 & 0 & 0 & 0 & 0 & 0 & 0 & 0 & 0 & 0\\\\0 & 0 & 0 & 0 & 0 & 0 & 0 & 0 & 0 & 0 & 0 & 0 & 0 & 0 & 0 & 0 & 0 & 0 & 0 & 0 & 0 & 0 & 0 & 0 & 0 & 1 & 0 & 0 & 0 & 0 & 0 & 0 & 0 & 0 & 0 & 0 & 0 & 0 & 0 & 0 & 0\\\\0 & 0 & 0 & 0 & 0 & 0 & 0 & 0 & 0 & 0 & 0 & 0 & 0 & 0 & 0 & 0 & 0 & 0 & 0 & 0 & 0 & 0 & 0 & 0 & 0 & 0 & 0 & 0 & 0 & 0 & 0 & 0 & 1 & 0 & 0 & 0 & 0 & 0 & 0 & 0 & 0\\\\0 & 0 & 0 & 0 & 0 & 0 & 0 & 0 & 0 & 0 & 0 & 0 & 0 & 0 & 0 & 0 & 0 & 0 & 0 & 0 & 0 & 0 & 0 & 0 & 0 & 0 & 0 & 0 & 0 & 1 & 0 & 0 & 0 & 0 & 0 & 0 & 0 & 0 & 0 & 0 & 0\\end{array}\\right]_{i, t} + \\sum_{t=0}^{40} \\left(\\left[\\begin{array}{ccccccccccccccccccccccccccccccccccccccccc}0 & 0 & 0 & 0 & 0 & 0 & 0 & 0 & 0 & 0 & 0 & 0 & 0 & 0 & 0 & 0 & 0 & 0.02 & 135.81 & 276.19 & 307.2 & 328.59 & 327.84 & 359.56 & 365.59 & 363.27 & 361.32 & 358.23 & 385.31 & 482.47 & 481.56 & 478.19 & 475.64 & 473.44 & 471.56 & 469.85 & 468.27 & 466.42 & 464.29 & 461.96 & 460.39\\end{array}\\right]_{0, t} - \\sum_{i=0}^{4} \\left(t wg_{i, 0} + wc_{i, 0}\\right) \\left[\\begin{array}{ccccccccccccccccccccccccccccccccccccccccc}0 & 0 & 0 & 0 & 0 & 0 & 0 & 0 & 0 & 0 & 0 & 0 & 0 & 0 & 0 & 0 & 0 & 0 & 1 & 1 & 1 & 1 & 1 & 1 & 1 & 1 & 1 & 1 & 1 & 1 & 1 & 1 & 1 & 1 & 1 & 1 & 1 & 1 & 1 & 1 & 1\\\\0 & 0 & 0 & 0 & 0 & 0 & 0 & 0 & 0 & 0 & 0 & 0 & 0 & 0 & 0 & 0 & 0 & 0 & 1 & 1 & 1 & 1 & 1 & 1 & 1 & 1 & 1 & 1 & 1 & 1 & 1 & 1 & 1 & 1 & 1 & 1 & 1 & 1 & 1 & 1 & 1\\\\0 & 0 & 0 & 0 & 0 & 0 & 0 & 0 & 0 & 0 & 0 & 0 & 0 & 0 & 0 & 0 & 0 & 0 & 0 & 0 & 1 & 1 & 1 & 1 & 1 & 1 & 1 & 1 & 1 & 1 & 1 & 1 & 1 & 1 & 1 & 1 & 1 & 1 & 1 & 1 & 1\\\\0 & 0 & 0 & 0 & 0 & 0 & 0 & 0 & 0 & 0 & 0 & 0 & 0 & 0 & 0 & 0 & 0 & 0 & 0 & 0 & 0 & 0 & 1 & 1 & 1 & 1 & 1 & 1 & 1 & 1 & 1 & 1 & 1 & 1 & 1 & 1 & 1 & 1 & 1 & 1 & 1\\\\0 & 0 & 0 & 0 & 0 & 0 & 0 & 0 & 0 & 0 & 0 & 0 & 0 & 0 & 0 & 0 & 0 & 0 & 0 & 0 & 0 & 0 & 0 & 0 & 0 & 0 & 0 & 0 & 1 & 1 & 1 & 1 & 1 & 1 & 1 & 1 & 1 & 1 & 1 & 1 & 1\\end{array}\\right]_{i, t}\\right)^{2}$"
      ],
      "text/plain": [
       "                                                                              \n",
       "                                                                              \n",
       "                                                                              \n",
       "                                                                              \n",
       "           4       40                                                         \n",
       "        _______ _______                                                       \n",
       "        ╲       ╲                                                             \n",
       "         ╲       ╲                                                            \n",
       "          ╲       ╲     ⎛                ⎛⎡0  0  0  0  0  0  0  0  0  0  0  0 \n",
       "           ╲       ╲    ⎜                ⎜⎢                                   \n",
       "            ╲       ╲   ⎜                ⎜⎢0  0  0  0  0  0  0  0  0  0  0  0 \n",
       "             ╲       ╲  ⎜                ⎜⎢                                   \n",
       "\\lambda⋅     ╱       ╱  ⎜-t⋅(wg)[i, 0] + ⎜⎢0  0  0  0  0  0  0  0  0  0  0  0 \n",
       "            ╱       ╱   ⎜                ⎜⎢                                   \n",
       "           ╱       ╱    ⎜                ⎜⎢0  0  0  0  0  0  0  0  0  0  0  0 \n",
       "          ╱       ╱     ⎜                ⎜⎢                                   \n",
       "         ╱       ╱      ⎝                ⎝⎣0  0  0  0  0  0  0  0  0  0  0  0 \n",
       "        ╱       ╱                                                             \n",
       "        ‾‾‾‾‾‾‾ ‾‾‾‾‾‾‾                                                       \n",
       "         i = 0   t = 0                                                        \n",
       "                                                                              \n",
       "                                                                              \n",
       "                                                                              \n",
       "                                                                              \n",
       "\n",
       "                                                                              \n",
       "                                                                              \n",
       "                                                                              \n",
       "                                                                              \n",
       "                                                                              \n",
       "                                                                              \n",
       "                                                                              \n",
       "                                                                              \n",
       " 0  0  0  0  0  0  70.3  143.1  140.6  138.4  136.4  134.7  133.5  132.7  132.\n",
       "                                                                              \n",
       " 0  0  0  0  0  0  65.5  133.1  130.6  128.4  126.4  124.7  123.5  122.7  122.\n",
       "                                                                              \n",
       " 0  0  0  0  0  0   0      0    36.0   61.9   61.5   60.2   59.6   59.2   58.9\n",
       "                                                                              \n",
       " 0  0  0  0  0  0   0      0      0      0     3.6   40.0   48.9   48.6   48.4\n",
       "                                                                              \n",
       " 0  0  0  0  0  0   0      0      0      0      0      0      0      0      0 \n",
       "                                                                              \n",
       "                                                                              \n",
       "                                                                              \n",
       "                                                                              \n",
       "                                                                              \n",
       "                                                                              \n",
       "                                                                              \n",
       "\n",
       "                                                                              \n",
       "                                                                              \n",
       "                                                                              \n",
       "                                                                              \n",
       "                                                                              \n",
       "                                                                              \n",
       "                                                                              \n",
       "                                                                              \n",
       "0  130.8  127.3  123.8  122.4  121.5  120.8  120.1  119.6  119.1  118.7  118.2\n",
       "                                                                              \n",
       "0  120.8  117.3  113.8  112.4  111.5  110.8  110.1  109.6  109.1  108.7  108.2\n",
       "                                                                              \n",
       "   58.5   57.7   56.5   55.8   55.3   55.0   54.8   54.6   54.3   54.1   54.0 \n",
       "                                                                              \n",
       "   48.1   47.4   46.5   45.9   45.6   45.3   45.2   45.0   44.8   44.7   44.5 \n",
       "                                                                              \n",
       "     0    35.7   141.8  145.1  144.3  143.8  143.3  142.9  142.4  142.0  141.6\n",
       "                                                                              \n",
       "                                                                              \n",
       "                                                                              \n",
       "                                                                              \n",
       "                                                                              \n",
       "                                                                              \n",
       "                                                                              \n",
       "\n",
       "                                                                              \n",
       "                                                                              \n",
       "                                                                              \n",
       "                                                                              \n",
       "                                                                              \n",
       "                                                                              \n",
       "                                                                              \n",
       "                                           2                                  \n",
       "  117.5  116.7  116.1⎤⎞                   ⎞  ⎛⎡0  0  0  0  0  0  0  0  0  0  0\n",
       "                     ⎥⎟                   ⎟  ⎜⎢                               \n",
       "  107.5  106.7  106.1⎥⎟                   ⎟  ⎜⎢0  0  0  0  0  0  0  0  0  0  0\n",
       "                     ⎥⎟                   ⎟  ⎜⎢                               \n",
       "  53.8   53.6   53.5 ⎥⎟[i, t] - (wc)[i, 0]⎟ ⋅⎜⎢0  0  0  0  0  0  0  0  0  0  0\n",
       "                     ⎥⎟                   ⎟  ⎜⎢                               \n",
       "  44.4   44.2   44.1 ⎥⎟                   ⎟  ⎜⎢0  0  0  0  0  0  0  0  0  0  0\n",
       "                     ⎥⎟                   ⎟  ⎜⎢                               \n",
       "  141.2  140.8  140.5⎦⎠                   ⎠  ⎝⎣0  0  0  0  0  0  0  0  0  0  0\n",
       "                                                                              \n",
       "                                                                              \n",
       "                                                                              \n",
       "                                                                              \n",
       "                                                                              \n",
       "                                                                              \n",
       "                                                                              \n",
       "\n",
       "                                                                              \n",
       "                                                                              \n",
       "                                                                              \n",
       "                                                                              \n",
       "                                                                              \n",
       "                                                                              \n",
       "                                                                              \n",
       "                                                                              \n",
       "  0  0  0  0  0  0  0  0  0  0  0  1  0  0  0  0  0  0  0  0  0  0  0  0  0  0\n",
       "                                                                              \n",
       "  0  0  0  0  0  0  0  0  0  0  0  0  0  0  0  0  1  0  0  0  0  0  0  0  0  0\n",
       "                                                                              \n",
       "  0  0  0  0  0  0  0  0  0  0  0  0  0  0  1  0  0  0  0  0  0  0  0  0  0  0\n",
       "                                                                              \n",
       "  0  0  0  0  0  0  0  0  0  0  0  0  0  0  0  0  0  0  0  0  0  1  0  0  0  0\n",
       "                                                                              \n",
       "  0  0  0  0  0  0  0  0  0  0  0  0  0  0  0  0  0  0  1  0  0  0  0  0  0  0\n",
       "                                                                              \n",
       "                                                                              \n",
       "                                                                              \n",
       "                                                                              \n",
       "                                                                              \n",
       "                                                                              \n",
       "                                                                              \n",
       "\n",
       "                            40                                                \n",
       "                       ___________                                            \n",
       "                       ╲                                                      \n",
       "                        ╲                                                     \n",
       "                         ╲                                                    \n",
       "                          ╲        ⎛                                          \n",
       "                           ╲       ⎜                                          \n",
       "                            ╲      ⎜                                          \n",
       "  0  0  0  0⎤⎞               ╲     ⎜                                          \n",
       "            ⎥⎟                ╲    ⎜                                          \n",
       "  0  0  0  0⎥⎟                 ╲   ⎜                                          \n",
       "            ⎥⎟                  ╲  ⎜                                          \n",
       "  0  0  0  0⎥⎟[i, t] +          ╱  ⎜                                          \n",
       "            ⎥⎟                 ╱   ⎜([0  0  0  0  0  0  0  0  0  0  0  0  0  0\n",
       "  0  0  0  0⎥⎟                ╱    ⎜                                          \n",
       "            ⎥⎟               ╱     ⎜                                          \n",
       "  0  0  0  0⎦⎠              ╱      ⎜                                          \n",
       "                           ╱       ⎜                                          \n",
       "                          ╱        ⎜                                          \n",
       "                         ╱         ⎜                                          \n",
       "                        ╱          ⎝                                          \n",
       "                       ╱                                                      \n",
       "                       ‾‾‾‾‾‾‾‾‾‾‾                                            \n",
       "                          t = 0                                               \n",
       "\n",
       "                                                                              \n",
       "                                                                              \n",
       "                                                                              \n",
       "                                                                              \n",
       "                                                                              \n",
       "                                                                              \n",
       "                                                                              \n",
       "                                                                              \n",
       "                                                                              \n",
       "                                                                              \n",
       "                                                                              \n",
       "                                                                              \n",
       "                                                                              \n",
       "  0  0  0  0.02  135.81  276.19  307.2  328.59  327.84  359.56  365.59  363.27\n",
       "                                                                              \n",
       "                                                                              \n",
       "                                                                              \n",
       "                                                                              \n",
       "                                                                              \n",
       "                                                                              \n",
       "                                                                              \n",
       "                                                                              \n",
       "                                                                              \n",
       "                                                                              \n",
       "\n",
       "                                                                              \n",
       "                                                                              \n",
       "                                                                              \n",
       "                                                                              \n",
       "                                                                              \n",
       "                                                                              \n",
       "                                                                              \n",
       "                                                                              \n",
       "                                                                              \n",
       "                                                                              \n",
       "                                                                              \n",
       "                                                                              \n",
       "                                                                              \n",
       "  361.32  358.23  385.31  482.47  481.56  478.19  475.64  473.44  471.56  469.\n",
       "                                                                              \n",
       "                                                                              \n",
       "                                                                              \n",
       "                                                                              \n",
       "                                                                              \n",
       "                                                                              \n",
       "                                                                              \n",
       "                                                                              \n",
       "                                                                              \n",
       "                                                                              \n",
       "\n",
       "                                                                              \n",
       "                                                                              \n",
       "                                                                              \n",
       "                                                                              \n",
       "                                                                              \n",
       "                                                        4                     \n",
       "                                                     _______                  \n",
       "                                                     ╲                        \n",
       "                                                      ╲                       \n",
       "                                                       ╲                      \n",
       "                                                        ╲                     \n",
       "                                                         ╲                    \n",
       "                                                          ╲                   \n",
       "85  468.27  466.42  464.29  461.96  460.39])[0, t] -      ╱  (t⋅(wg)[i, 0] + (\n",
       "                                                         ╱                    \n",
       "                                                        ╱                     \n",
       "                                                       ╱                      \n",
       "                                                      ╱                       \n",
       "                                                     ╱                        \n",
       "                                                     ‾‾‾‾‾‾‾                  \n",
       "                                                      i = 0                   \n",
       "                                                                              \n",
       "                                                                              \n",
       "                                                                              \n",
       "\n",
       "                                                                              \n",
       "                                                                              \n",
       "                                                                              \n",
       "                                                                              \n",
       "                                                                              \n",
       "                                                                              \n",
       "                                                                              \n",
       "                                                                              \n",
       "                                                                              \n",
       "           ⎛⎡0  0  0  0  0  0  0  0  0  0  0  0  0  0  0  0  0  0  1  1  1  1 \n",
       "           ⎜⎢                                                                 \n",
       "           ⎜⎢0  0  0  0  0  0  0  0  0  0  0  0  0  0  0  0  0  0  1  1  1  1 \n",
       "           ⎜⎢                                                                 \n",
       "wc)[i, 0])⋅⎜⎢0  0  0  0  0  0  0  0  0  0  0  0  0  0  0  0  0  0  0  0  1  1 \n",
       "           ⎜⎢                                                                 \n",
       "           ⎜⎢0  0  0  0  0  0  0  0  0  0  0  0  0  0  0  0  0  0  0  0  0  0 \n",
       "           ⎜⎢                                                                 \n",
       "           ⎝⎣0  0  0  0  0  0  0  0  0  0  0  0  0  0  0  0  0  0  0  0  0  0 \n",
       "                                                                              \n",
       "                                                                              \n",
       "                                                                              \n",
       "                                                                              \n",
       "                                                                              \n",
       "                                                                              \n",
       "\n",
       "                                                                  \n",
       "                                                                  \n",
       "                                                                  \n",
       "                                                                  \n",
       "                                                                 2\n",
       "                                                                ⎞ \n",
       "                                                                ⎟ \n",
       "                                                                ⎟ \n",
       "                                                                ⎟ \n",
       " 1  1  1  1  1  1  1  1  1  1  1  1  1  1  1  1  1  1  1⎤⎞      ⎟ \n",
       "                                                        ⎥⎟      ⎟ \n",
       " 1  1  1  1  1  1  1  1  1  1  1  1  1  1  1  1  1  1  1⎥⎟      ⎟ \n",
       "                                                        ⎥⎟      ⎟ \n",
       " 1  1  1  1  1  1  1  1  1  1  1  1  1  1  1  1  1  1  1⎥⎟[i, t]⎟ \n",
       "                                                        ⎥⎟      ⎟ \n",
       " 1  1  1  1  1  1  1  1  1  1  1  1  1  1  1  1  1  1  1⎥⎟      ⎟ \n",
       "                                                        ⎥⎟      ⎟ \n",
       " 0  0  0  0  0  0  1  1  1  1  1  1  1  1  1  1  1  1  1⎦⎠      ⎟ \n",
       "                                                                ⎟ \n",
       "                                                                ⎟ \n",
       "                                                                ⎠ \n",
       "                                                                  \n",
       "                                                                  \n",
       "                                                                  "
      ]
     },
     "execution_count": 13,
     "metadata": {},
     "output_type": "execute_result"
    }
   ],
   "source": [
    "Inaccuracy = I.subs({M: MReal, z: zReal, d: dReal, m: mReal})\n",
    "Inaccuracy"
   ]
  },
  {
   "cell_type": "code",
   "execution_count": 41,
   "id": "292dd352",
   "metadata": {},
   "outputs": [
    {
     "data": {
      "image/png": "[encoded data removed]",
      "text/latex": [
       "$\\displaystyle 1460078.6993$"
      ],
      "text/plain": [
       "1460078.69930000"
      ]
     },
     "execution_count": 41,
     "metadata": {},
     "output_type": "execute_result"
    }
   ],
   "source": [
    "# Testing with test result\n",
    "wEval = Matrix([130, 120, 60, 50, 140, -1, -2, -2, -2, -3])\n",
    "regHP = 1\n",
    "#wEval[n:2*n,0]\n",
    "Inaccuracy.subs({wc: wEval[0:n,0], wg: wEval[n:2*n,0], lda: regHP}).doit()"
   ]
  },
  {
   "cell_type": "code",
   "execution_count": 14,
   "id": "2af9bc48",
   "metadata": {},
   "outputs": [],
   "source": [
    "def inac(wTest, *args):\n",
    "    # Unpack arguments\n",
    "    regHP = args[0]\n",
    "    Inaccuracy = args[1]\n",
    "    n = args[2]\n",
    "    wEval = Matrix(wTest)\n",
    "    # Solve and return the inaccuracy of the wTest solution\n",
    "    val = Inaccuracy.subs({wc: wEval[0:n,0], wg: wEval[n:2*n,0], lda: regHP}).doit()\n",
    "    return(val)"
   ]
  },
  {
   "cell_type": "code",
   "execution_count": 15,
   "id": "5992ac06",
   "metadata": {},
   "outputs": [],
   "source": [
    "# Minimise using scipy to find minima\n",
    "w0 = [130, 110, 55, 45, 140, -1, -2, -2, -2, -3]\n",
    "regHP = 1\n",
    "args = (regHP, Inaccuracy, n)\n",
    "wFound = minimize(inac, w0, args=args, method='Nelder-Mead', tol=10)"
   ]
  },
  {
   "cell_type": "code",
   "execution_count": 19,
   "id": "8f2fbf6f",
   "metadata": {},
   "outputs": [
    {
     "data": {
      "text/plain": [
       "array([144.78679749, 133.50233478, 109.24677077,  40.47164349,\n",
       "       177.31408299,  -1.48354737,  -1.30569256,  -0.88240173,\n",
       "         0.68232122,  -1.11939694])"
      ]
     },
     "execution_count": 19,
     "metadata": {},
     "output_type": "execute_result"
    }
   ],
   "source": [
    "# Gives a result after 87 iterations and 150 functions evaluations:\n",
    "#wTolpoint1  = [ 1.237e+02,  1.081e+02,  7.231e+01,  4.457e+01,  1.193e+02]\n",
    "ans = wFound.x\n",
    "ans"
   ]
  },
  {
   "cell_type": "code",
   "execution_count": 28,
   "id": "e499a2bd",
   "metadata": {},
   "outputs": [
    {
     "data": {
      "image/png": "[encoded data removed]",
      "text/plain": [
       "<Figure size 640x480 with 1 Axes>"
      ]
     },
     "metadata": {},
     "output_type": "display_data"
    }
   ],
   "source": [
    "# Plot results from well 1\n",
    "colours=['b', 'y', 'r', 'g', 'k']\n",
    "for i in range(n):\n",
    "    plt.plot(range(T),mReal[i,:][:], colours[i]+'-')\n",
    "    # Plot Time-Dependently\n",
    "    for t in range(T):\n",
    "        ansplot = (ans[i]+t*ans[i+n])\n",
    "        plt.plot(t,ansplot*zReal[i,t], colours[i]+'.')\n",
    "    for month,element in enumerate(dReal[i,:]):\n",
    "        if element==1:\n",
    "            plt.plot(month, mReal[i,month], colours[i]+'*')\n",
    "\n"
   ]
  },
  {
   "cell_type": "markdown",
   "id": "43214669-443d-494e-aef5-0611be795566",
   "metadata": {},
   "source": [
    "Use .diff() to get derivatives and solve for stationary points, second derivatives for minima. - Differentiate Inac with resepect to each w - solve 2n equations simultaneously (invertible matrix?)\n",
    "\n",
    "Design matrix of linear regression - EngSci 205\n",
    "\n",
    "Bayesian vs grid search approach for regularisation parameter tuning (MH?) - Need to make solving more efficient for this to be feasible\n",
    "\n",
    "Replace flat w with linearly time-dependent w - Currently too slow to solve this \n",
    "\n",
    "Sympy function - Python - use Bayesian approach to estimate cost function\n",
    "Optuner or other - bayesian optimisation package"
   ]
  }
 ],
 "metadata": {
  "kernelspec": {
   "display_name": "Python 3 (ipykernel)",
   "language": "python",
   "name": "python3"
  },
  "language_info": {
   "codemirror_mode": {
    "name": "ipython",
    "version": 3
   },
   "file_extension": ".py",
   "mimetype": "text/x-python",
   "name": "python",
   "nbconvert_exporter": "python",
   "pygments_lexer": "ipython3",
   "version": "3.9.19"
  }
 },
 "nbformat": 4,
 "nbformat_minor": 5
}
