{
 "cells": [
  {
   "cell_type": "code",
   "execution_count": 2,
   "id": "441db858-1415-4663-afd5-8b55956613e7",
   "metadata": {},
   "outputs": [],
   "source": [
    "from sympy import *\n",
    "init_printing()"
   ]
  },
  {
   "cell_type": "code",
   "execution_count": 3,
   "id": "628f8036-6305-483e-b665-8484861494c3",
   "metadata": {},
   "outputs": [],
   "source": [
    "n, T, w1, w2, w3 = symbols('n T w_1 w_2 w_3')"
   ]
  },
  {
   "cell_type": "code",
   "execution_count": 7,
   "id": "9dd2c865-18d3-419c-95ec-61305fbf2163",
   "metadata": {},
   "outputs": [
    {
     "data": {
      "image/png": "[encoded data removed]",
      "text/latex": [
       "$\\displaystyle 15$"
      ],
      "text/plain": [
       "15"
      ]
     },
     "execution_count": 7,
     "metadata": {},
     "output_type": "execute_result"
    }
   ],
   "source": [
    "n = 3\n",
    "T = 5\n",
    "n*T"
   ]
  },
  {
   "cell_type": "code",
   "execution_count": null,
   "id": "daf10ffc-086a-4c6c-967f-77e74dfecead",
   "metadata": {},
   "outputs": [],
   "source": []
  },
  {
   "cell_type": "code",
   "execution_count": null,
   "id": "70d12d2c-73de-498d-bfff-4c1b9ffef7cd",
   "metadata": {},
   "outputs": [],
   "source": [
    "\n"
   ]
  },
  {
   "cell_type": "code",
   "execution_count": null,
   "id": "63f2fef6-4ede-455a-a322-53463b30853f",
   "metadata": {},
   "outputs": [],
   "source": []
  }
 ],
 "metadata": {
  "kernelspec": {
   "display_name": "Python 3 (ipykernel)",
   "language": "python",
   "name": "python3"
  },
  "language_info": {
   "codemirror_mode": {
    "name": "ipython",
    "version": 3
   },
   "file_extension": ".py",
   "mimetype": "text/x-python",
   "name": "python",
   "nbconvert_exporter": "python",
   "pygments_lexer": "ipython3",
   "version": "3.9.19"
  }
 },
 "nbformat": 4,
 "nbformat_minor": 5
}
