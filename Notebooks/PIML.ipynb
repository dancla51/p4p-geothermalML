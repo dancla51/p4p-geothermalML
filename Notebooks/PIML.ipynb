{
 "cells": [
  {
   "cell_type": "code",
   "execution_count": 8,
   "id": "2af8a083-23b7-4bde-bb79-868feb0ee5ed",
   "metadata": {},
   "outputs": [],
   "source": [
    "import torch\n",
    "import sklearn\n",
    "import numpy\n",
    "import seaborn\n",
    "import matplotlib"
   ]
  },
  {
   "cell_type": "code",
   "execution_count": null,
   "id": "c03e3ab5-8c9b-45d2-ab33-83b60c5ec262",
   "metadata": {},
   "outputs": [],
   "source": []
  },
  {
   "cell_type": "code",
   "execution_count": 7,
   "id": "3e1c81f5-a087-4c3c-9abe-cd5b3a8611db",
   "metadata": {},
   "outputs": [],
   "source": [
    "# https://medium.com/@theo.wolf/physics-informed-neural-networks-a-simple-tutorial-with-pytorch-f28a890b874a\n",
    "def grad(outputs, inputs):\n",
    "    \"\"\"Computes the partial derivative of \n",
    "    an output with respect to an input.\"\"\"\n",
    "    return torch.autograd.grad(\n",
    "        outputs, \n",
    "        inputs, \n",
    "        grad_outputs=torch.ones_like(outputs), \n",
    "        create_graph=True\n",
    "    )\n",
    "\n",
    "def physics_loss(model: torch.nn.Module):\n",
    "    \"\"\"The physics loss of the model\"\"\"\n",
    "    # make collocation points\n",
    "    ts = torch.linspace(0, 1000, steps=1000,).view(-1,1).requires_grad_(True)\n",
    "    # run the collocation points through the network\n",
    "    temps = model(ts)\n",
    "    # get the gradient\n",
    "    dT = grad(temps, ts)[0]\n",
    "    # compute the ODE\n",
    "    ode = dT - R*(Tenv - temps)\n",
    "    # MSE of ODE\n",
    "    return torch.mean(ode**2)"
   ]
  },
  {
   "cell_type": "code",
   "execution_count": null,
   "id": "b8e470a8-ded3-46ab-9c4e-0960cc878419",
   "metadata": {},
   "outputs": [],
   "source": []
  },
  {
   "cell_type": "code",
   "execution_count": null,
   "id": "68a17ac3-f535-4fb8-9dcd-6f54bae144a6",
   "metadata": {},
   "outputs": [],
   "source": []
  },
  {
   "cell_type": "code",
   "execution_count": null,
   "id": "f0b12585-fef2-466a-998e-69fc15b2f71a",
   "metadata": {},
   "outputs": [],
   "source": []
  },
  {
   "cell_type": "code",
   "execution_count": null,
   "id": "7e405ec7-276e-4b64-9e67-349d038bdca6",
   "metadata": {},
   "outputs": [],
   "source": []
  },
  {
   "cell_type": "code",
   "execution_count": null,
   "id": "c001b267-db2c-4b7d-83ae-3a9d9f122d0f",
   "metadata": {},
   "outputs": [],
   "source": []
  },
  {
   "cell_type": "code",
   "execution_count": null,
   "id": "291f7af6-ae53-4662-ad03-27de84d60781",
   "metadata": {},
   "outputs": [],
   "source": []
  },
  {
   "cell_type": "code",
   "execution_count": null,
   "id": "44b4018d-f6d3-4836-8f1f-16e31afc0d39",
   "metadata": {},
   "outputs": [],
   "source": []
  },
  {
   "cell_type": "code",
   "execution_count": null,
   "id": "82b74687-120d-418e-a8c2-97e3b19c664c",
   "metadata": {},
   "outputs": [],
   "source": []
  }
 ],
 "metadata": {
  "kernelspec": {
   "display_name": "Python 3 (ipykernel)",
   "language": "python",
   "name": "python3"
  },
  "language_info": {
   "codemirror_mode": {
    "name": "ipython",
    "version": 3
   },
   "file_extension": ".py",
   "mimetype": "text/x-python",
   "name": "python",
   "nbconvert_exporter": "python",
   "pygments_lexer": "ipython3",
   "version": "3.11.7"
  }
 },
 "nbformat": 4,
 "nbformat_minor": 5
}
