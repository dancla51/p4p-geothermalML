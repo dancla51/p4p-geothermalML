{
 "cells": [
  {
   "cell_type": "code",
   "execution_count": 127,
   "id": "441db858-1415-4663-afd5-8b55956613e7",
   "metadata": {},
   "outputs": [],
   "source": [
    "import numpy as np\n",
    "from scipy.optimize import minimize\n",
    "from sympy import *\n",
    "init_printing(use_latex=true)"
   ]
  },
  {
   "cell_type": "code",
   "execution_count": 137,
   "id": "628f8036-6305-483e-b665-8484861494c3",
   "metadata": {},
   "outputs": [],
   "source": [
    "n, T, i, t, lda, eps = symbols('n T i t \\lambda \\epsilon')       # n wells & T timepoints\n",
    "n = 3\n",
    "T = 5"
   ]
  },
  {
   "cell_type": "code",
   "execution_count": 78,
   "id": "9dd2c865-18d3-419c-95ec-61305fbf2163",
   "metadata": {},
   "outputs": [
    {
     "name": "stdout",
     "output_type": "stream",
     "text": [
      "⎡c₀₀  c₀₁  c₀₂  c₀₃  c₀₄⎤\n",
      "⎢                       ⎥\n",
      "⎢c₁₀  c₁₁  c₁₂  c₁₃  c₁₄⎥\n",
      "⎢                       ⎥\n",
      "⎣c₂₀  c₂₁  c₂₂  c₂₃  c₂₄⎦\n"
     ]
    }
   ],
   "source": [
    "c = MatrixSymbol('c', n, T)      # Row 0 = well 0   , Column 3 = Timepoint 3\n",
    "pprint(c.as_explicit())"
   ]
  },
  {
   "cell_type": "code",
   "execution_count": 60,
   "id": "daf10ffc-086a-4c6c-967f-77e74dfecead",
   "metadata": {},
   "outputs": [
    {
     "name": "stdout",
     "output_type": "stream",
     "text": [
      "⎡d₀₀  d₀₁  d₀₂  d₀₃  d₀₄⎤\n",
      "⎢                       ⎥\n",
      "⎢d₁₀  d₁₁  d₁₂  d₁₃  d₁₄⎥\n",
      "⎢                       ⎥\n",
      "⎣d₂₀  d₂₁  d₂₂  d₂₃  d₂₄⎦\n"
     ]
    }
   ],
   "source": [
    "d = MatrixSymbol('d', n, T)   \n",
    "pprint(d.as_explicit())"
   ]
  },
  {
   "cell_type": "code",
   "execution_count": 61,
   "id": "c53ae321",
   "metadata": {},
   "outputs": [
    {
     "name": "stdout",
     "output_type": "stream",
     "text": [
      "⎡p₀₀  p₀₁  p₀₂  p₀₃  p₀₄⎤\n",
      "⎢                       ⎥\n",
      "⎢p₁₀  p₁₁  p₁₂  p₁₃  p₁₄⎥\n",
      "⎢                       ⎥\n",
      "⎣p₂₀  p₂₁  p₂₂  p₂₃  p₂₄⎦\n"
     ]
    }
   ],
   "source": [
    "p = MatrixSymbol('p', n, T)  \n",
    "pprint(p.as_explicit())"
   ]
  },
  {
   "cell_type": "code",
   "execution_count": 62,
   "id": "70d12d2c-73de-498d-bfff-4c1b9ffef7cd",
   "metadata": {},
   "outputs": [
    {
     "name": "stdout",
     "output_type": "stream",
     "text": [
      "⎡w₀₀⎤\n",
      "⎢   ⎥\n",
      "⎢w₁₀⎥\n",
      "⎢   ⎥\n",
      "⎣w₂₀⎦\n"
     ]
    }
   ],
   "source": [
    "w = MatrixSymbol('w', n, 1)\n",
    "pprint(w.as_explicit())"
   ]
  },
  {
   "cell_type": "code",
   "execution_count": 63,
   "id": "9008042a",
   "metadata": {},
   "outputs": [
    {
     "name": "stdout",
     "output_type": "stream",
     "text": [
      "[P₀₀  P₀₁  P₀₂  P₀₃  P₀₄]\n"
     ]
    }
   ],
   "source": [
    "P = MatrixSymbol('P', 1, T)\n",
    "pprint(P.as_explicit())\n"
   ]
  },
  {
   "cell_type": "code",
   "execution_count": 108,
   "id": "d04a3ffb",
   "metadata": {},
   "outputs": [
    {
     "data": {
      "image/png": "[encoded data removed]",
      "text/latex": [
       "$\\displaystyle \\sum_{t=0}^{4} \\left(P_{0, t} - \\sum_{i=0}^{2} c_{i, t} w_{i, 0}\\right)^{2}$"
      ],
      "text/plain": [
       "   4                                            \n",
       "_______                                         \n",
       "╲                                               \n",
       " ╲                                              \n",
       "  ╲                                            2\n",
       "   ╲    ⎛              2                      ⎞ \n",
       "    ╲   ⎜             ___                     ⎟ \n",
       "     ╲  ⎜             ╲                       ⎟ \n",
       "     ╱  ⎜              ╲                      ⎟ \n",
       "    ╱   ⎜(P)[0, t] -   ╱   (c)[i, t]⋅(w)[i, 0]⎟ \n",
       "   ╱    ⎜             ╱                       ⎟ \n",
       "  ╱     ⎜             ‾‾‾                     ⎟ \n",
       " ╱      ⎝            i = 0                    ⎠ \n",
       "╱                                               \n",
       "‾‾‾‾‾‾‾                                         \n",
       " t = 0                                          "
      ]
     },
     "execution_count": 108,
     "metadata": {},
     "output_type": "execute_result"
    }
   ],
   "source": [
    "S1 = Sum((P[0,t] - Sum(c[i, t]*w[i,0], (i, 0, n-1)))**2 , (t, 0, T-1))\n",
    "S1"
   ]
  },
  {
   "cell_type": "code",
   "execution_count": 109,
   "id": "d5090c41",
   "metadata": {},
   "outputs": [
    {
     "data": {
      "image/png": "[encoded data removed]",
      "text/latex": [
       "$\\displaystyle \\sum_{\\substack{0 \\leq t \\leq 4\\\\0 \\leq i \\leq 2}} \\left(p_{i, t} - w_{i, 0}\\right)^{2} d_{i, t}$"
      ],
      "text/plain": [
       "  2     4                                     \n",
       " ___   ___                                    \n",
       " ╲     ╲                                      \n",
       "  ╲     ╲                          2          \n",
       "  ╱     ╱   ((p)[i, t] - (w)[i, 0]) ⋅(d)[i, t]\n",
       " ╱     ╱                                      \n",
       " ‾‾‾   ‾‾‾                                    \n",
       "i = 0 t = 0                                   "
      ]
     },
     "execution_count": 109,
     "metadata": {},
     "output_type": "execute_result"
    }
   ],
   "source": [
    "S2 = Sum(Sum(d[i,t]*((p[i,t]-w[i, 0]))**2 , (t, 0, T-1)), (i, 0, n-1))\n",
    "S2"
   ]
  },
  {
   "cell_type": "code",
   "execution_count": 110,
   "id": "bd917970",
   "metadata": {},
   "outputs": [
    {
     "data": {
      "image/png": "[encoded data removed]",
      "text/latex": [
       "$\\displaystyle \\lambda \\sum_{\\substack{0 \\leq t \\leq 4\\\\0 \\leq i \\leq 2}} \\left(p_{i, t} - w_{i, 0}\\right)^{2} d_{i, t} + \\sum_{t=0}^{4} \\left(P_{0, t} - \\sum_{i=0}^{2} c_{i, t} w_{i, 0}\\right)^{2}$"
      ],
      "text/plain": [
       "                                                            4                 \n",
       "                                                         _______              \n",
       "                                                         ╲                    \n",
       "                                                          ╲                   \n",
       "          2     4                                          ╲                  \n",
       "         ___   ___                                          ╲    ⎛            \n",
       "         ╲     ╲                                             ╲   ⎜            \n",
       "          ╲     ╲                          2                  ╲  ⎜            \n",
       "\\lambda⋅  ╱     ╱   ((p)[i, t] - (w)[i, 0]) ⋅(d)[i, t] +      ╱  ⎜            \n",
       "         ╱     ╱                                             ╱   ⎜(P)[0, t] - \n",
       "         ‾‾‾   ‾‾‾                                          ╱    ⎜            \n",
       "        i = 0 t = 0                                        ╱     ⎜            \n",
       "                                                          ╱      ⎝            \n",
       "                                                         ╱                    \n",
       "                                                         ‾‾‾‾‾‾‾              \n",
       "                                                          t = 0               \n",
       "\n",
       "                           \n",
       "                           \n",
       "                           \n",
       "                           \n",
       "                          2\n",
       "  2                      ⎞ \n",
       " ___                     ⎟ \n",
       " ╲                       ⎟ \n",
       "  ╲                      ⎟ \n",
       "  ╱   (c)[i, t]⋅(w)[i, 0]⎟ \n",
       " ╱                       ⎟ \n",
       " ‾‾‾                     ⎟ \n",
       "i = 0                    ⎠ \n",
       "                           \n",
       "                           \n",
       "                           "
      ]
     },
     "execution_count": 110,
     "metadata": {},
     "output_type": "execute_result"
    }
   ],
   "source": [
    "I = S1 + lda*S2\n",
    "I"
   ]
  },
  {
   "cell_type": "code",
   "execution_count": 111,
   "id": "1f8e33d2",
   "metadata": {},
   "outputs": [
    {
     "data": {
      "image/png": "[encoded data removed]",
      "text/latex": [
       "$\\displaystyle \\lambda \\sum_{\\substack{0 \\leq t \\leq 4\\\\0 \\leq i \\leq 2}} \\left(\\left[\\begin{matrix}1 & 1 & 1 & 1 & 1\\\\0 & 2 & 2 & 2 & 2\\\\0 & 0 & 0 & 5 & 5\\end{matrix}\\right]_{i, t} - w_{i, 0}\\right)^{2} \\left[\\begin{matrix}0 & 0 & 0 & 0 & 0\\\\0 & 1 & 0 & 0 & 0\\\\0 & 0 & 0 & 1 & 0\\end{matrix}\\right]_{i, t} + \\sum_{t=0}^{4} \\left(\\left[\\begin{matrix}1 & 3 & 3 & 8 & 8\\end{matrix}\\right]_{0, t} - \\sum_{i=0}^{2} \\left[\\begin{matrix}1 & 1 & 1 & 1 & 1\\\\0 & 1 & 1 & 1 & 1\\\\0 & 0 & 0 & 1 & 1\\end{matrix}\\right]_{i, t} w_{i, 0}\\right)^{2}$"
      ],
      "text/plain": [
       "                                                                              \n",
       "                                                                              \n",
       "                                                                              \n",
       "                                                                              \n",
       "          2     4                                                             \n",
       "        _____ _____                                                           \n",
       "        ╲     ╲                                                               \n",
       "         ╲     ╲                                         2                    \n",
       "          ╲     ╲   ⎛⎛⎡1  1  1  1  1⎤⎞                  ⎞  ⎛⎡0  0  0  0  0⎤⎞  \n",
       "           ╲     ╲  ⎜⎜⎢             ⎥⎟                  ⎟  ⎜⎢             ⎥⎟  \n",
       "\\lambda⋅   ╱     ╱  ⎜⎜⎢0  2  2  2  2⎥⎟[i, t] - (w)[i, 0]⎟ ⋅⎜⎢0  1  0  0  0⎥⎟[i\n",
       "          ╱     ╱   ⎜⎜⎢             ⎥⎟                  ⎟  ⎜⎢             ⎥⎟  \n",
       "         ╱     ╱    ⎝⎝⎣0  0  0  5  5⎦⎠                  ⎠  ⎝⎣0  0  0  1  0⎦⎠  \n",
       "        ╱     ╱                                                               \n",
       "        ‾‾‾‾‾ ‾‾‾‾‾                                                           \n",
       "        i = 0 t = 0                                                           \n",
       "                                                                              \n",
       "                                                                              \n",
       "                                                                              \n",
       "                                                                              \n",
       "\n",
       "           4                                                                  \n",
       "       _________                                                              \n",
       "       ╲                                                                      \n",
       "        ╲                                                                     \n",
       "         ╲                                                                    \n",
       "          ╲      ⎛                            2                               \n",
       "           ╲     ⎜                          _____                             \n",
       "            ╲    ⎜                          ╲                                 \n",
       "             ╲   ⎜                           ╲                                \n",
       "              ╲  ⎜                            ╲   ⎛⎡1  1  1  1  1⎤⎞           \n",
       ", t] +        ╱  ⎜                             ╲  ⎜⎢             ⎥⎟           \n",
       "             ╱   ⎜([1  3  3  8  8])[0, t] -    ╱  ⎜⎢0  1  1  1  1⎥⎟[i, t]⋅(w)[\n",
       "            ╱    ⎜                            ╱   ⎜⎢             ⎥⎟           \n",
       "           ╱     ⎜                           ╱    ⎝⎣0  0  0  1  1⎦⎠           \n",
       "          ╱      ⎜                          ╱                                 \n",
       "         ╱       ⎜                          ‾‾‾‾‾                             \n",
       "        ╱        ⎝                          i = 0                             \n",
       "       ╱                                                                      \n",
       "       ‾‾‾‾‾‾‾‾‾                                                              \n",
       "         t = 0                                                                \n",
       "\n",
       "       \n",
       "       \n",
       "       \n",
       "       \n",
       "      2\n",
       "     ⎞ \n",
       "     ⎟ \n",
       "     ⎟ \n",
       "     ⎟ \n",
       "     ⎟ \n",
       "     ⎟ \n",
       "i, 0]⎟ \n",
       "     ⎟ \n",
       "     ⎟ \n",
       "     ⎟ \n",
       "     ⎟ \n",
       "     ⎠ \n",
       "       \n",
       "       \n",
       "       "
      ]
     },
     "execution_count": 111,
     "metadata": {},
     "output_type": "execute_result"
    }
   ],
   "source": [
    "I2 = I.subs({P: Matrix([[1, 3, 3, 8, 8]]), c: Matrix([[1, 1, 1, 1, 1], [0, 1, 1, 1, 1], [0, 0, 0, 1, 1]])})\n",
    "I3 = I2.subs({d: Matrix([[0, 0, 0, 0, 0], [0, 1, 0, 0, 0], [0, 0, 0, 1, 0]])})\n",
    "Inaccuracy = I3.subs({p: Matrix([[1, 1, 1, 1, 1],  [0, 2, 2, 2, 2], [0, 0, 0, 5, 5]])})\n",
    "Inaccuracy"
   ]
  },
  {
   "cell_type": "code",
   "execution_count": 138,
   "id": "292dd352",
   "metadata": {},
   "outputs": [
    {
     "data": {
      "image/png": "[encoded data removed]",
      "text/latex": [
       "$\\displaystyle \\left[ 0.0\\right]$"
      ],
      "text/plain": [
       "[0.0]"
      ]
     },
     "execution_count": 138,
     "metadata": {},
     "output_type": "execute_result"
    }
   ],
   "source": [
    "# Testing with true result\n",
    "wEval = Matrix([1, 2, 5])\n",
    "regHP = 0.2\n",
    "\n",
    "solve(Inaccuracy.subs({w: wEval, lda: regHP})-eps, eps)"
   ]
  },
  {
   "cell_type": "code",
   "execution_count": 170,
   "id": "2af9bc48",
   "metadata": {},
   "outputs": [],
   "source": [
    "def inac(wTest, *args):\n",
    "    regHP = args[0]\n",
    "    Inaccuracy = args[1]\n",
    "    wEval = Matrix(wTest)\n",
    "    val = solve(Inaccuracy.subs({w: wEval, lda: regHP})-eps, eps)[0]\n",
    "    return(val)"
   ]
  },
  {
   "cell_type": "code",
   "execution_count": 171,
   "id": "5992ac06",
   "metadata": {},
   "outputs": [
    {
     "name": "stdout",
     "output_type": "stream",
     "text": [
      "Optimization terminated successfully.\n",
      "         Current function value: 0.000053\n",
      "         Iterations: 39\n",
      "         Function evaluations: 74\n"
     ]
    },
    {
     "data": {
      "text/plain": [
       " final_simplex: (array([[0.99674421, 2.00435818, 4.99917768],\n",
       "       [1.00288809, 1.99594291, 4.99913378],\n",
       "       [0.9998392 , 2.00399521, 4.99583915],\n",
       "       [0.99720984, 2.00046218, 4.9942734 ]]), array([5.25275681e-05, 5.37790632e-05, 9.61930878e-05, 2.14391922e-04]))\n",
       "           fun: 5.2527568146113435e-05\n",
       "       message: 'Optimization terminated successfully.'\n",
       "          nfev: 74\n",
       "           nit: 39\n",
       "        status: 0\n",
       "       success: True\n",
       "             x: array([0.99674421, 2.00435818, 4.99917768])"
      ]
     },
     "execution_count": 171,
     "metadata": {},
     "output_type": "execute_result"
    }
   ],
   "source": [
    "w0 = [1, 2, 3]\n",
    "regHP = 2\n",
    "args = (regHP, Inaccuracy)\n",
    "minimize(inac, w0, args=args, method='Nelder-Mead', tol=10**-2, options={'disp': True})"
   ]
  },
  {
   "cell_type": "code",
   "execution_count": 160,
   "id": "8f2fbf6f",
   "metadata": {},
   "outputs": [
    {
     "data": {
      "image/png": "[encoded data removed]",
      "text/latex": [
       "$\\displaystyle 10.0$"
      ],
      "text/plain": [
       "10.0000000000000"
      ]
     },
     "execution_count": 160,
     "metadata": {},
     "output_type": "execute_result"
    }
   ],
   "source": [
    "inac([1, 2, 3], 0.5, Inaccuracy)"
   ]
  },
  {
   "cell_type": "code",
   "execution_count": null,
   "id": "e499a2bd",
   "metadata": {},
   "outputs": [],
   "source": []
  }
 ],
 "metadata": {
  "kernelspec": {
   "display_name": "Python 3 (ipykernel)",
   "language": "python",
   "name": "python3"
  },
  "language_info": {
   "codemirror_mode": {
    "name": "ipython",
    "version": 3
   },
   "file_extension": ".py",
   "mimetype": "text/x-python",
   "name": "python",
   "nbconvert_exporter": "python",
   "pygments_lexer": "ipython3",
   "version": "3.9.13"
  }
 },
 "nbformat": 4,
 "nbformat_minor": 5
}
