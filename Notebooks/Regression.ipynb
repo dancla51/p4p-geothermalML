{
 "cells": [
  {
   "cell_type": "code",
   "execution_count": 8,
   "id": "2af8a083-23b7-4bde-bb79-868feb0ee5ed",
   "metadata": {},
   "outputs": [],
   "source": [
    "#import torch\n",
    "import numpy as np\n",
    "import seaborn as sb\n",
    "import matplotlib.pyplot as plt\n",
    "import pandas as pd\n",
    "\n",
    "from sklearn.linear_model import LinearRegression"
   ]
  },
  {
   "cell_type": "code",
   "execution_count": 9,
   "id": "c03e3ab5-8c9b-45d2-ab33-83b60c5ec262",
   "metadata": {},
   "outputs": [
    {
     "data": {
      "text/html": [
       "<div>\n",
       "<style scoped>\n",
       "    .dataframe tbody tr th:only-of-type {\n",
       "        vertical-align: middle;\n",
       "    }\n",
       "\n",
       "    .dataframe tbody tr th {\n",
       "        vertical-align: top;\n",
       "    }\n",
       "\n",
       "    .dataframe thead th {\n",
       "        text-align: right;\n",
       "    }\n",
       "</style>\n",
       "<table border=\"1\" class=\"dataframe\">\n",
       "  <thead>\n",
       "    <tr style=\"text-align: right;\">\n",
       "      <th></th>\n",
       "      <th>month</th>\n",
       "      <th>well1</th>\n",
       "      <th>well2</th>\n",
       "      <th>well3</th>\n",
       "      <th>well4</th>\n",
       "      <th>well5</th>\n",
       "    </tr>\n",
       "  </thead>\n",
       "  <tbody>\n",
       "    <tr>\n",
       "      <th>0</th>\n",
       "      <td>0</td>\n",
       "      <td>127.3</td>\n",
       "      <td>117.3</td>\n",
       "      <td>57.7</td>\n",
       "      <td>47.4</td>\n",
       "      <td>35.7</td>\n",
       "    </tr>\n",
       "    <tr>\n",
       "      <th>1</th>\n",
       "      <td>1</td>\n",
       "      <td>123.8</td>\n",
       "      <td>113.8</td>\n",
       "      <td>56.5</td>\n",
       "      <td>46.5</td>\n",
       "      <td>141.8</td>\n",
       "    </tr>\n",
       "    <tr>\n",
       "      <th>2</th>\n",
       "      <td>2</td>\n",
       "      <td>122.4</td>\n",
       "      <td>112.4</td>\n",
       "      <td>55.8</td>\n",
       "      <td>45.9</td>\n",
       "      <td>145.1</td>\n",
       "    </tr>\n",
       "    <tr>\n",
       "      <th>3</th>\n",
       "      <td>3</td>\n",
       "      <td>121.5</td>\n",
       "      <td>111.5</td>\n",
       "      <td>55.3</td>\n",
       "      <td>45.6</td>\n",
       "      <td>144.3</td>\n",
       "    </tr>\n",
       "    <tr>\n",
       "      <th>4</th>\n",
       "      <td>4</td>\n",
       "      <td>120.8</td>\n",
       "      <td>110.8</td>\n",
       "      <td>55.0</td>\n",
       "      <td>45.3</td>\n",
       "      <td>143.8</td>\n",
       "    </tr>\n",
       "  </tbody>\n",
       "</table>\n",
       "</div>"
      ],
      "text/plain": [
       "   month  well1  well2  well3  well4  well5\n",
       "0      0  127.3  117.3   57.7   47.4   35.7\n",
       "1      1  123.8  113.8   56.5   46.5  141.8\n",
       "2      2  122.4  112.4   55.8   45.9  145.1\n",
       "3      3  121.5  111.5   55.3   45.6  144.3\n",
       "4      4  120.8  110.8   55.0   45.3  143.8"
      ]
     },
     "execution_count": 9,
     "metadata": {},
     "output_type": "execute_result"
    }
   ],
   "source": [
    "# Import data from excel file\n",
    "yMassFlow = pd.read_excel(\"Data/TrainingData.xlsx\", sheet_name=\"yMassFlow\")\n",
    "ySteamFlow = pd.read_excel(\"Data/TrainingData.xlsx\", sheet_name=\"ySteamFlow\")\n",
    "xTotalSteamFlow = pd.read_excel(\"Data/TrainingData.xlsx\", sheet_name=\"xTotalSteamFlow\")\n",
    "yMassFlow.head()"
   ]
  },
  {
   "cell_type": "code",
   "execution_count": 10,
   "id": "3e1c81f5-a087-4c3c-9abe-cd5b3a8611db",
   "metadata": {},
   "outputs": [
    {
     "data": {
      "text/html": [
       "<div>\n",
       "<style scoped>\n",
       "    .dataframe tbody tr th:only-of-type {\n",
       "        vertical-align: middle;\n",
       "    }\n",
       "\n",
       "    .dataframe tbody tr th {\n",
       "        vertical-align: top;\n",
       "    }\n",
       "\n",
       "    .dataframe thead th {\n",
       "        text-align: right;\n",
       "    }\n",
       "</style>\n",
       "<table border=\"1\" class=\"dataframe\">\n",
       "  <thead>\n",
       "    <tr style=\"text-align: right;\">\n",
       "      <th></th>\n",
       "      <th>month</th>\n",
       "      <th>well1</th>\n",
       "      <th>well2</th>\n",
       "      <th>well3</th>\n",
       "      <th>well4</th>\n",
       "      <th>well5</th>\n",
       "    </tr>\n",
       "  </thead>\n",
       "  <tbody>\n",
       "    <tr>\n",
       "      <th>0</th>\n",
       "      <td>0</td>\n",
       "      <td>20.53</td>\n",
       "      <td>26.80</td>\n",
       "      <td>5.87</td>\n",
       "      <td>2.82</td>\n",
       "      <td>4.89</td>\n",
       "    </tr>\n",
       "    <tr>\n",
       "      <th>1</th>\n",
       "      <td>1</td>\n",
       "      <td>20.18</td>\n",
       "      <td>26.64</td>\n",
       "      <td>5.76</td>\n",
       "      <td>2.77</td>\n",
       "      <td>19.42</td>\n",
       "    </tr>\n",
       "    <tr>\n",
       "      <th>2</th>\n",
       "      <td>2</td>\n",
       "      <td>20.19</td>\n",
       "      <td>27.00</td>\n",
       "      <td>5.69</td>\n",
       "      <td>2.74</td>\n",
       "      <td>19.94</td>\n",
       "    </tr>\n",
       "    <tr>\n",
       "      <th>3</th>\n",
       "      <td>3</td>\n",
       "      <td>20.34</td>\n",
       "      <td>27.57</td>\n",
       "      <td>5.65</td>\n",
       "      <td>2.72</td>\n",
       "      <td>19.92</td>\n",
       "    </tr>\n",
       "    <tr>\n",
       "      <th>4</th>\n",
       "      <td>4</td>\n",
       "      <td>20.59</td>\n",
       "      <td>28.26</td>\n",
       "      <td>5.63</td>\n",
       "      <td>2.71</td>\n",
       "      <td>19.96</td>\n",
       "    </tr>\n",
       "  </tbody>\n",
       "</table>\n",
       "</div>"
      ],
      "text/plain": [
       "   month  well1  well2  well3  well4  well5\n",
       "0      0  20.53  26.80   5.87   2.82   4.89\n",
       "1      1  20.18  26.64   5.76   2.77  19.42\n",
       "2      2  20.19  27.00   5.69   2.74  19.94\n",
       "3      3  20.34  27.57   5.65   2.72  19.92\n",
       "4      4  20.59  28.26   5.63   2.71  19.96"
      ]
     },
     "execution_count": 10,
     "metadata": {},
     "output_type": "execute_result"
    }
   ],
   "source": [
    "ySteamFlow.head()"
   ]
  },
  {
   "cell_type": "code",
   "execution_count": 11,
   "id": "b8e470a8-ded3-46ab-9c4e-0960cc878419",
   "metadata": {},
   "outputs": [
    {
     "data": {
      "text/html": [
       "<div>\n",
       "<style scoped>\n",
       "    .dataframe tbody tr th:only-of-type {\n",
       "        vertical-align: middle;\n",
       "    }\n",
       "\n",
       "    .dataframe tbody tr th {\n",
       "        vertical-align: top;\n",
       "    }\n",
       "\n",
       "    .dataframe thead th {\n",
       "        text-align: right;\n",
       "    }\n",
       "</style>\n",
       "<table border=\"1\" class=\"dataframe\">\n",
       "  <thead>\n",
       "    <tr style=\"text-align: right;\">\n",
       "      <th></th>\n",
       "      <th>month</th>\n",
       "      <th>totalSteamFlow</th>\n",
       "    </tr>\n",
       "  </thead>\n",
       "  <tbody>\n",
       "    <tr>\n",
       "      <th>0</th>\n",
       "      <td>0</td>\n",
       "      <td>60.90</td>\n",
       "    </tr>\n",
       "    <tr>\n",
       "      <th>1</th>\n",
       "      <td>1</td>\n",
       "      <td>74.77</td>\n",
       "    </tr>\n",
       "    <tr>\n",
       "      <th>2</th>\n",
       "      <td>2</td>\n",
       "      <td>75.56</td>\n",
       "    </tr>\n",
       "    <tr>\n",
       "      <th>3</th>\n",
       "      <td>3</td>\n",
       "      <td>76.20</td>\n",
       "    </tr>\n",
       "    <tr>\n",
       "      <th>4</th>\n",
       "      <td>4</td>\n",
       "      <td>77.15</td>\n",
       "    </tr>\n",
       "  </tbody>\n",
       "</table>\n",
       "</div>"
      ],
      "text/plain": [
       "   month  totalSteamFlow\n",
       "0      0           60.90\n",
       "1      1           74.77\n",
       "2      2           75.56\n",
       "3      3           76.20\n",
       "4      4           77.15"
      ]
     },
     "execution_count": 11,
     "metadata": {},
     "output_type": "execute_result"
    }
   ],
   "source": [
    "xTotalSteamFlow.head()"
   ]
  },
  {
   "cell_type": "code",
   "execution_count": 12,
   "id": "68a17ac3-f535-4fb8-9dcd-6f54bae144a6",
   "metadata": {},
   "outputs": [
    {
     "data": {
      "text/html": [
       "<div>\n",
       "<style scoped>\n",
       "    .dataframe tbody tr th:only-of-type {\n",
       "        vertical-align: middle;\n",
       "    }\n",
       "\n",
       "    .dataframe tbody tr th {\n",
       "        vertical-align: top;\n",
       "    }\n",
       "\n",
       "    .dataframe thead th {\n",
       "        text-align: right;\n",
       "    }\n",
       "</style>\n",
       "<table border=\"1\" class=\"dataframe\">\n",
       "  <thead>\n",
       "    <tr style=\"text-align: right;\">\n",
       "      <th></th>\n",
       "      <th>well</th>\n",
       "      <th>month</th>\n",
       "      <th>massFlow</th>\n",
       "      <th>steamFlow</th>\n",
       "      <th>dryness</th>\n",
       "    </tr>\n",
       "  </thead>\n",
       "  <tbody>\n",
       "    <tr>\n",
       "      <th>0</th>\n",
       "      <td>1</td>\n",
       "      <td>3</td>\n",
       "      <td>121.5</td>\n",
       "      <td>20.34</td>\n",
       "      <td>0.167407</td>\n",
       "    </tr>\n",
       "    <tr>\n",
       "      <th>1</th>\n",
       "      <td>2</td>\n",
       "      <td>5</td>\n",
       "      <td>110.1</td>\n",
       "      <td>29.10</td>\n",
       "      <td>0.264305</td>\n",
       "    </tr>\n",
       "    <tr>\n",
       "      <th>2</th>\n",
       "      <td>3</td>\n",
       "      <td>7</td>\n",
       "      <td>54.3</td>\n",
       "      <td>5.58</td>\n",
       "      <td>0.102762</td>\n",
       "    </tr>\n",
       "    <tr>\n",
       "      <th>3</th>\n",
       "      <td>4</td>\n",
       "      <td>8</td>\n",
       "      <td>44.7</td>\n",
       "      <td>2.67</td>\n",
       "      <td>0.059732</td>\n",
       "    </tr>\n",
       "    <tr>\n",
       "      <th>4</th>\n",
       "      <td>5</td>\n",
       "      <td>10</td>\n",
       "      <td>141.2</td>\n",
       "      <td>20.90</td>\n",
       "      <td>0.148017</td>\n",
       "    </tr>\n",
       "  </tbody>\n",
       "</table>\n",
       "</div>"
      ],
      "text/plain": [
       "   well  month  massFlow  steamFlow   dryness\n",
       "0     1      3     121.5      20.34  0.167407\n",
       "1     2      5     110.1      29.10  0.264305\n",
       "2     3      7      54.3       5.58  0.102762\n",
       "3     4      8      44.7       2.67  0.059732\n",
       "4     5     10     141.2      20.90  0.148017"
      ]
     },
     "execution_count": 12,
     "metadata": {},
     "output_type": "execute_result"
    }
   ],
   "source": [
    "# Generate TFT data using a dictionary (format well: month# )\n",
    "TFTs = {'well1': 3, 'well2': 5, 'well3': 7, 'well4': 8, 'well5': 10}\n",
    "\n",
    "TFTdata = []\n",
    "for i, element in enumerate(TFTs):\n",
    "    month = TFTs.get(element)\n",
    "    #print(i, element, month)\n",
    "    mF = yMassFlow.loc[yMassFlow[\"month\"]==month][element][month]\n",
    "    sF = ySteamFlow.loc[ySteamFlow[\"month\"]==month][element][month]\n",
    "    p = [int(element[4:]), month, mF, sF, sF/mF] \n",
    "    TFTdata.append(p)\n",
    "xTFT = pd.DataFrame(TFTdata, columns=['well', 'month', 'massFlow', 'steamFlow', 'dryness'])\n",
    "xTFT"
   ]
  },
  {
   "cell_type": "code",
   "execution_count": 78,
   "id": "3963f8d2-2529-451c-b3a7-e35599dcde49",
   "metadata": {},
   "outputs": [
    {
     "data": {
      "text/plain": [
       "array([20.53, 20.18, 20.19, 20.34, 20.59])"
      ]
     },
     "execution_count": 78,
     "metadata": {},
     "output_type": "execute_result"
    }
   ],
   "source": [
    "# Convert Y data to vector (well1, well2, ...) for regression\n",
    "nMonths = len(ySteamFlow.index)\n",
    "nWells = len(ySteamFlow.columns)-1\n",
    "Y = ySteamFlow.loc[:, ySteamFlow.columns != \"month\"].to_numpy()\n",
    "Y = Y.reshape([nMonths*nWells,1], order=\"F\")[:,0] # Make vertical vector\n",
    "Y[0:5]\n",
    "#Y.shape"
   ]
  },
  {
   "cell_type": "code",
   "execution_count": 77,
   "id": "a79f5ff1-60b7-497c-8c0c-58a00a229cf9",
   "metadata": {},
   "outputs": [
    {
     "data": {
      "text/plain": [
       "array([[60.9 ],\n",
       "       [74.77],\n",
       "       [75.56],\n",
       "       [76.2 ],\n",
       "       [77.15]])"
      ]
     },
     "execution_count": 77,
     "metadata": {},
     "output_type": "execute_result"
    }
   ],
   "source": [
    "# Convert X data to matrix\n",
    "X = np.array([])\n",
    "for i in range(nWells):\n",
    "    X = np.append(X, xTotalSteamFlow[\"totalSteamFlow\"].to_numpy())\n",
    "X = X.reshape(-1, 1)\n",
    "X[0:5]"
   ]
  },
  {
   "cell_type": "code",
   "execution_count": 79,
   "id": "f0b12585-fef2-466a-998e-69fc15b2f71a",
   "metadata": {},
   "outputs": [],
   "source": [
    "linreg = LinearRegression().fit(X, Y)"
   ]
  },
  {
   "cell_type": "code",
   "execution_count": 83,
   "id": "c001b267-db2c-4b7d-83ae-3a9d9f122d0f",
   "metadata": {},
   "outputs": [
    {
     "data": {
      "text/plain": [
       "array([12.18106912, 14.95447854, 15.1124449 , 15.24041765, 15.4303772 ,\n",
       "       15.6783244 , 16.00425499, 16.422166  , 16.96405061, 17.65790285,\n",
       "       18.51971933, 19.6074877 , 20.45730673, 12.18106912, 14.95447854,\n",
       "       15.1124449 , 15.24041765, 15.4303772 , 15.6783244 , 16.00425499,\n",
       "       16.422166  , 16.96405061, 17.65790285, 18.51971933, 19.6074877 ,\n",
       "       20.45730673, 12.18106912, 14.95447854, 15.1124449 , 15.24041765,\n",
       "       15.4303772 , 15.6783244 , 16.00425499, 16.422166  , 16.96405061,\n",
       "       17.65790285, 18.51971933, 19.6074877 , 20.45730673, 12.18106912,\n",
       "       14.95447854, 15.1124449 , 15.24041765, 15.4303772 , 15.6783244 ,\n",
       "       16.00425499, 16.422166  , 16.96405061, 17.65790285, 18.51971933,\n",
       "       19.6074877 , 20.45730673, 12.18106912, 14.95447854, 15.1124449 ,\n",
       "       15.24041765, 15.4303772 , 15.6783244 , 16.00425499, 16.422166  ,\n",
       "       16.96405061, 17.65790285, 18.51971933, 19.6074877 , 20.45730673])"
      ]
     },
     "execution_count": 83,
     "metadata": {},
     "output_type": "execute_result"
    }
   ],
   "source": [
    "Xpred = linreg.predict(X)\n",
    "Xpred"
   ]
  },
  {
   "cell_type": "code",
   "execution_count": 84,
   "id": "291f7af6-ae53-4662-ad03-27de84d60781",
   "metadata": {},
   "outputs": [
    {
     "data": {
      "text/plain": [
       "array([[ 60.9 ],\n",
       "       [ 74.77],\n",
       "       [ 75.56],\n",
       "       [ 76.2 ],\n",
       "       [ 77.15],\n",
       "       [ 78.39],\n",
       "       [ 80.02],\n",
       "       [ 82.11],\n",
       "       [ 84.82],\n",
       "       [ 88.29],\n",
       "       [ 92.6 ],\n",
       "       [ 98.04],\n",
       "       [102.29],\n",
       "       [ 60.9 ],\n",
       "       [ 74.77],\n",
       "       [ 75.56],\n",
       "       [ 76.2 ],\n",
       "       [ 77.15],\n",
       "       [ 78.39],\n",
       "       [ 80.02],\n",
       "       [ 82.11],\n",
       "       [ 84.82],\n",
       "       [ 88.29],\n",
       "       [ 92.6 ],\n",
       "       [ 98.04],\n",
       "       [102.29],\n",
       "       [ 60.9 ],\n",
       "       [ 74.77],\n",
       "       [ 75.56],\n",
       "       [ 76.2 ],\n",
       "       [ 77.15],\n",
       "       [ 78.39],\n",
       "       [ 80.02],\n",
       "       [ 82.11],\n",
       "       [ 84.82],\n",
       "       [ 88.29],\n",
       "       [ 92.6 ],\n",
       "       [ 98.04],\n",
       "       [102.29],\n",
       "       [ 60.9 ],\n",
       "       [ 74.77],\n",
       "       [ 75.56],\n",
       "       [ 76.2 ],\n",
       "       [ 77.15],\n",
       "       [ 78.39],\n",
       "       [ 80.02],\n",
       "       [ 82.11],\n",
       "       [ 84.82],\n",
       "       [ 88.29],\n",
       "       [ 92.6 ],\n",
       "       [ 98.04],\n",
       "       [102.29],\n",
       "       [ 60.9 ],\n",
       "       [ 74.77],\n",
       "       [ 75.56],\n",
       "       [ 76.2 ],\n",
       "       [ 77.15],\n",
       "       [ 78.39],\n",
       "       [ 80.02],\n",
       "       [ 82.11],\n",
       "       [ 84.82],\n",
       "       [ 88.29],\n",
       "       [ 92.6 ],\n",
       "       [ 98.04],\n",
       "       [102.29]])"
      ]
     },
     "execution_count": 84,
     "metadata": {},
     "output_type": "execute_result"
    }
   ],
   "source": [
    "X"
   ]
  },
  {
   "cell_type": "code",
   "execution_count": null,
   "id": "44b4018d-f6d3-4836-8f1f-16e31afc0d39",
   "metadata": {},
   "outputs": [],
   "source": []
  },
  {
   "cell_type": "code",
   "execution_count": null,
   "id": "82b74687-120d-418e-a8c2-97e3b19c664c",
   "metadata": {},
   "outputs": [],
   "source": []
  }
 ],
 "metadata": {
  "kernelspec": {
   "display_name": "Python 3 (ipykernel)",
   "language": "python",
   "name": "python3"
  },
  "language_info": {
   "codemirror_mode": {
    "name": "ipython",
    "version": 3
   },
   "file_extension": ".py",
   "mimetype": "text/x-python",
   "name": "python",
   "nbconvert_exporter": "python",
   "pygments_lexer": "ipython3",
   "version": "3.9.19"
  }
 },
 "nbformat": 4,
 "nbformat_minor": 5
}
